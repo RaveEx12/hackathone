{
 "cells": [
  {
   "cell_type": "markdown",
   "metadata": {},
   "source": [
    "# EA language classification hackathon\n",
    "\n",
    "© Explore Data Science Academy\n",
    "\n",
    "---\n",
    "### Honour Code\n",
    "\n",
    "I {**Godwin Festus**}, confirm - by submitting this document - that the solutions in this notebook are a result of my own work and that I abide by the [EDSA honour code](https://drive.google.com/file/d/1QDCjGZJ8-FmJE3bZdIQNwnJyQKPhHZBn/view?usp=sharing).\n",
    "\n",
    "Non-compliance with the honour code constitutes a material breach of contract.\n",
    "\n",
    "### Predict Overview: EA - South African Language Identification Hack 2023\n",
    "\n",
    "South Africa is a multicultural society that is characterised by its rich linguistic diversity. Language is an indispensable tool that can be used to deepen democracy and also contribute to the social, cultural, intellectual, economic and political life of the South African society.\n",
    "\n",
    "The country is multilingual with 11 official languages, each of which is guaranteed equal status. Most South Africans are multilingual and able to speak at least two or more of the official languages.\n",
    "\n",
    "With such a multilingual population, it is only obvious that our systems and devices also communicate in multi-languages.\n",
    "\n",
    "In this challenge, you will take text which is in any of South Africa's 11 Official languages and identify which language the text is in. This is an example of NLP's Language Identification, the task of determining the natural language that a piece of text is written in."
   ]
  },
  {
   "cell_type": "markdown",
   "metadata": {},
   "source": [
    "<a id=\"cont\"></a>\n",
    "\n",
    "## Table of Contents\n",
    "\n",
    "<a href=#one>1. Importing Packages</a>\n",
    "\n",
    "<a href=#two>2. Loading Data</a>\n",
    "\n",
    "<a href=#four>3. Data Engineering</a>\n",
    "\n",
    "<a href=#five>4. Modeling</a>\n",
    "\n",
    "<a href=#six>5. Model Performance</a>\n",
    "\n",
    "<a href=#seven>6. Model Explanations</a>"
   ]
  },
  {
   "cell_type": "markdown",
   "metadata": {},
   "source": [
    " <a id=\"one\"></a>\n",
    "## 1. Importing Packages\n",
    "\n"
   ]
  },
  {
   "cell_type": "code",
   "execution_count": 1,
   "metadata": {},
   "outputs": [],
   "source": [
    "# Libraries for data loading, data manipulation, and data visualization\n",
    "import nltk\n",
    "import numpy as np\n",
    "import pandas as pd\n",
    "import matplotlib.pyplot as plt  # Library for basic plotting in Python\n",
    "import seaborn as sns  # Library for statistical data visualization\n",
    "import plotly.express as px  # Library for interactive visualizations\n",
    "from IPython.core.display import HTML  # Library for rendering HTML content in Jupyter Notebook\n",
    "import string\n",
    "\n",
    "# Libraries for data preparation and model building\n",
    "from sklearn.feature_extraction.text import TfidfVectorizer\n"
   ]
  },
  {
   "cell_type": "markdown",
   "metadata": {},
   "source": [
    "<a id=\"two\"></a>\n",
    "## 2. Loading the Data\n",
    "<a class=\"anchor\" id=\"1.1\"></a>\n",
    "<a href=#cont>Back to Table of Contents</a>\n",
    "\n",
    "---\n",
    "    \n",
    "| ⚡ Description: Loading the data ⚡ |\n",
    "| :--------------------------- |\n",
    "| In this section you are required to load the data from the `df_train` file into a DataFrame. |\n",
    "\n",
    "---"
   ]
  },
  {
   "cell_type": "code",
   "execution_count": 2,
   "metadata": {},
   "outputs": [],
   "source": [
    "#Load the data\n",
    "df_train = pd.read_csv(\"train_set.csv\")\n",
    "df_test = pd.read_csv(\"test_set.csv\")"
   ]
  },
  {
   "cell_type": "code",
   "execution_count": 3,
   "metadata": {},
   "outputs": [
    {
     "data": {
      "text/html": [
       "<div>\n",
       "<style scoped>\n",
       "    .dataframe tbody tr th:only-of-type {\n",
       "        vertical-align: middle;\n",
       "    }\n",
       "\n",
       "    .dataframe tbody tr th {\n",
       "        vertical-align: top;\n",
       "    }\n",
       "\n",
       "    .dataframe thead th {\n",
       "        text-align: right;\n",
       "    }\n",
       "</style>\n",
       "<table border=\"1\" class=\"dataframe\">\n",
       "  <thead>\n",
       "    <tr style=\"text-align: right;\">\n",
       "      <th></th>\n",
       "      <th>lang_id</th>\n",
       "      <th>text</th>\n",
       "    </tr>\n",
       "  </thead>\n",
       "  <tbody>\n",
       "    <tr>\n",
       "      <th>0</th>\n",
       "      <td>xho</td>\n",
       "      <td>umgaqo-siseko wenza amalungiselelo kumaziko ax...</td>\n",
       "    </tr>\n",
       "    <tr>\n",
       "      <th>1</th>\n",
       "      <td>xho</td>\n",
       "      <td>i-dha iya kuba nobulumko bokubeka umsebenzi na...</td>\n",
       "    </tr>\n",
       "    <tr>\n",
       "      <th>2</th>\n",
       "      <td>eng</td>\n",
       "      <td>the province of kwazulu-natal department of tr...</td>\n",
       "    </tr>\n",
       "    <tr>\n",
       "      <th>3</th>\n",
       "      <td>nso</td>\n",
       "      <td>o netefatša gore o ba file dilo ka moka tše le...</td>\n",
       "    </tr>\n",
       "    <tr>\n",
       "      <th>4</th>\n",
       "      <td>ven</td>\n",
       "      <td>khomishini ya ndinganyiso ya mbeu yo ewa maana...</td>\n",
       "    </tr>\n",
       "  </tbody>\n",
       "</table>\n",
       "</div>"
      ],
      "text/plain": [
       "  lang_id                                               text\n",
       "0     xho  umgaqo-siseko wenza amalungiselelo kumaziko ax...\n",
       "1     xho  i-dha iya kuba nobulumko bokubeka umsebenzi na...\n",
       "2     eng  the province of kwazulu-natal department of tr...\n",
       "3     nso  o netefatša gore o ba file dilo ka moka tše le...\n",
       "4     ven  khomishini ya ndinganyiso ya mbeu yo ewa maana..."
      ]
     },
     "execution_count": 3,
     "metadata": {},
     "output_type": "execute_result"
    }
   ],
   "source": [
    "df_train.head()"
   ]
  },
  {
   "cell_type": "code",
   "execution_count": 4,
   "metadata": {},
   "outputs": [
    {
     "data": {
      "text/html": [
       "<div>\n",
       "<style scoped>\n",
       "    .dataframe tbody tr th:only-of-type {\n",
       "        vertical-align: middle;\n",
       "    }\n",
       "\n",
       "    .dataframe tbody tr th {\n",
       "        vertical-align: top;\n",
       "    }\n",
       "\n",
       "    .dataframe thead th {\n",
       "        text-align: right;\n",
       "    }\n",
       "</style>\n",
       "<table border=\"1\" class=\"dataframe\">\n",
       "  <thead>\n",
       "    <tr style=\"text-align: right;\">\n",
       "      <th></th>\n",
       "      <th>lang_id</th>\n",
       "      <th>text</th>\n",
       "    </tr>\n",
       "  </thead>\n",
       "  <tbody>\n",
       "    <tr>\n",
       "      <th>32995</th>\n",
       "      <td>tsn</td>\n",
       "      <td>popo ya dipolateforomo tse ke go tlisa boetele...</td>\n",
       "    </tr>\n",
       "    <tr>\n",
       "      <th>32996</th>\n",
       "      <td>sot</td>\n",
       "      <td>modise mosadi na o ntse o sa utlwe hore thaban...</td>\n",
       "    </tr>\n",
       "    <tr>\n",
       "      <th>32997</th>\n",
       "      <td>eng</td>\n",
       "      <td>closing date for the submission of completed t...</td>\n",
       "    </tr>\n",
       "    <tr>\n",
       "      <th>32998</th>\n",
       "      <td>xho</td>\n",
       "      <td>nawuphina umntu ofunyenwe enetyala phantsi kwa...</td>\n",
       "    </tr>\n",
       "    <tr>\n",
       "      <th>32999</th>\n",
       "      <td>sot</td>\n",
       "      <td>mafapha a mang le ona a lokela ho etsa ditlale...</td>\n",
       "    </tr>\n",
       "  </tbody>\n",
       "</table>\n",
       "</div>"
      ],
      "text/plain": [
       "      lang_id                                               text\n",
       "32995     tsn  popo ya dipolateforomo tse ke go tlisa boetele...\n",
       "32996     sot  modise mosadi na o ntse o sa utlwe hore thaban...\n",
       "32997     eng  closing date for the submission of completed t...\n",
       "32998     xho  nawuphina umntu ofunyenwe enetyala phantsi kwa...\n",
       "32999     sot  mafapha a mang le ona a lokela ho etsa ditlale..."
      ]
     },
     "execution_count": 4,
     "metadata": {},
     "output_type": "execute_result"
    }
   ],
   "source": [
    "df_train.tail()"
   ]
  },
  {
   "cell_type": "code",
   "execution_count": 5,
   "metadata": {},
   "outputs": [
    {
     "data": {
      "text/plain": [
       "(33000, 2)"
      ]
     },
     "execution_count": 5,
     "metadata": {},
     "output_type": "execute_result"
    }
   ],
   "source": [
    "df_train.shape"
   ]
  },
  {
   "cell_type": "code",
   "execution_count": 6,
   "metadata": {},
   "outputs": [
    {
     "data": {
      "text/html": [
       "<div>\n",
       "<style scoped>\n",
       "    .dataframe tbody tr th:only-of-type {\n",
       "        vertical-align: middle;\n",
       "    }\n",
       "\n",
       "    .dataframe tbody tr th {\n",
       "        vertical-align: top;\n",
       "    }\n",
       "\n",
       "    .dataframe thead th {\n",
       "        text-align: right;\n",
       "    }\n",
       "</style>\n",
       "<table border=\"1\" class=\"dataframe\">\n",
       "  <thead>\n",
       "    <tr style=\"text-align: right;\">\n",
       "      <th></th>\n",
       "      <th>index</th>\n",
       "      <th>text</th>\n",
       "    </tr>\n",
       "  </thead>\n",
       "  <tbody>\n",
       "    <tr>\n",
       "      <th>0</th>\n",
       "      <td>1</td>\n",
       "      <td>Mmasepala, fa maemo a a kgethegileng a letlele...</td>\n",
       "    </tr>\n",
       "    <tr>\n",
       "      <th>1</th>\n",
       "      <td>2</td>\n",
       "      <td>Uzakwaziswa ngokufaneleko nakungafuneka eminye...</td>\n",
       "    </tr>\n",
       "    <tr>\n",
       "      <th>2</th>\n",
       "      <td>3</td>\n",
       "      <td>Tshivhumbeo tshi fana na ngano dza vhathu.</td>\n",
       "    </tr>\n",
       "    <tr>\n",
       "      <th>3</th>\n",
       "      <td>4</td>\n",
       "      <td>Kube inja nelikati betingevakala kutsi titsini...</td>\n",
       "    </tr>\n",
       "    <tr>\n",
       "      <th>4</th>\n",
       "      <td>5</td>\n",
       "      <td>Winste op buitelandse valuta.</td>\n",
       "    </tr>\n",
       "  </tbody>\n",
       "</table>\n",
       "</div>"
      ],
      "text/plain": [
       "   index                                               text\n",
       "0      1  Mmasepala, fa maemo a a kgethegileng a letlele...\n",
       "1      2  Uzakwaziswa ngokufaneleko nakungafuneka eminye...\n",
       "2      3         Tshivhumbeo tshi fana na ngano dza vhathu.\n",
       "3      4  Kube inja nelikati betingevakala kutsi titsini...\n",
       "4      5                      Winste op buitelandse valuta."
      ]
     },
     "execution_count": 6,
     "metadata": {},
     "output_type": "execute_result"
    }
   ],
   "source": [
    "df_test.head()"
   ]
  },
  {
   "cell_type": "code",
   "execution_count": 7,
   "metadata": {},
   "outputs": [
    {
     "data": {
      "text/plain": [
       "(5682, 2)"
      ]
     },
     "execution_count": 7,
     "metadata": {},
     "output_type": "execute_result"
    }
   ],
   "source": [
    "df_test.shape"
   ]
  },
  {
   "cell_type": "markdown",
   "metadata": {},
   "source": [
    "<a id=\"three\"></a>\n",
    "## 3. Data Cleaning\n",
    "\n",
    "| In this section, we performed indepth cleaning of the data |\n",
    "---\n"
   ]
  },
  {
   "cell_type": "code",
   "execution_count": null,
   "metadata": {},
   "outputs": [],
   "source": []
  },
  {
   "cell_type": "code",
   "execution_count": 8,
   "metadata": {},
   "outputs": [
    {
     "name": "stdout",
     "output_type": "stream",
     "text": [
      "<class 'pandas.core.frame.DataFrame'>\n",
      "RangeIndex: 33000 entries, 0 to 32999\n",
      "Data columns (total 2 columns):\n",
      " #   Column   Non-Null Count  Dtype \n",
      "---  ------   --------------  ----- \n",
      " 0   lang_id  33000 non-null  object\n",
      " 1   text     33000 non-null  object\n",
      "dtypes: object(2)\n",
      "memory usage: 515.8+ KB\n"
     ]
    }
   ],
   "source": [
    "df_train.info()"
   ]
  },
  {
   "cell_type": "code",
   "execution_count": 9,
   "metadata": {},
   "outputs": [
    {
     "name": "stdout",
     "output_type": "stream",
     "text": [
      "<class 'pandas.core.frame.DataFrame'>\n",
      "RangeIndex: 5682 entries, 0 to 5681\n",
      "Data columns (total 2 columns):\n",
      " #   Column  Non-Null Count  Dtype \n",
      "---  ------  --------------  ----- \n",
      " 0   index   5682 non-null   int64 \n",
      " 1   text    5682 non-null   object\n",
      "dtypes: int64(1), object(1)\n",
      "memory usage: 88.9+ KB\n"
     ]
    }
   ],
   "source": [
    "df_test.info()"
   ]
  },
  {
   "cell_type": "code",
   "execution_count": 10,
   "metadata": {},
   "outputs": [
    {
     "data": {
      "text/plain": [
       "lang_id    0\n",
       "text       0\n",
       "dtype: int64"
      ]
     },
     "execution_count": 10,
     "metadata": {},
     "output_type": "execute_result"
    }
   ],
   "source": [
    "df_train.isnull().sum()"
   ]
  },
  {
   "cell_type": "code",
   "execution_count": 11,
   "metadata": {},
   "outputs": [
    {
     "data": {
      "text/plain": [
       "index    0\n",
       "text     0\n",
       "dtype: int64"
      ]
     },
     "execution_count": 11,
     "metadata": {},
     "output_type": "execute_result"
    }
   ],
   "source": [
    "df_test.isnull().sum()"
   ]
  },
  {
   "cell_type": "markdown",
   "metadata": {},
   "source": [
    "### To remove the punction marks, @mentions and special characters, we create a function "
   ]
  },
  {
   "cell_type": "code",
   "execution_count": 12,
   "metadata": {},
   "outputs": [],
   "source": [
    "import re\n",
    "\n",
    "def clean_text(text):\n",
    "    ''' This function takes a array, list or series like objects containing tweets\n",
    "        and replace all with empty pace, and convert to lower case\n",
    "    '''\n",
    "    \n",
    "    # to convert to lower case\n",
    "    text = text.lower()\n",
    "    \n",
    "    \n",
    "    # Remove mentions (e.g., @username)\n",
    "    text = re.sub(r'@[A-Za-z0-9_]+', '', text)\n",
    "\n",
    "    # Remove URLs (e.g., https://example.com)\n",
    "    text = re.sub(r'http[s]?://(?:[A-Za-z]|[0-9]|[$-_@.&+]|[!*\\(\\),]|(?:%[0-9A-Fa-f][0-9A-Fa-f]))+', '', text)\n",
    "\n",
    "    # Remove punctuation marks\n",
    "    text = re.sub(r'[^\\w\\s]', '', text)\n",
    "\n",
    "    return text"
   ]
  },
  {
   "cell_type": "code",
   "execution_count": 13,
   "metadata": {},
   "outputs": [],
   "source": [
    "df = df_train\n",
    "\n",
    "df['text'] = df['text'].apply(clean_text)"
   ]
  },
  {
   "cell_type": "code",
   "execution_count": 14,
   "metadata": {},
   "outputs": [],
   "source": [
    "df_test['text'] = df['text'].apply(clean_text)"
   ]
  },
  {
   "cell_type": "code",
   "execution_count": 15,
   "metadata": {},
   "outputs": [
    {
     "data": {
      "text/html": [
       "<div>\n",
       "<style scoped>\n",
       "    .dataframe tbody tr th:only-of-type {\n",
       "        vertical-align: middle;\n",
       "    }\n",
       "\n",
       "    .dataframe tbody tr th {\n",
       "        vertical-align: top;\n",
       "    }\n",
       "\n",
       "    .dataframe thead th {\n",
       "        text-align: right;\n",
       "    }\n",
       "</style>\n",
       "<table border=\"1\" class=\"dataframe\">\n",
       "  <thead>\n",
       "    <tr style=\"text-align: right;\">\n",
       "      <th></th>\n",
       "      <th>lang_id</th>\n",
       "      <th>text</th>\n",
       "    </tr>\n",
       "  </thead>\n",
       "  <tbody>\n",
       "    <tr>\n",
       "      <th>0</th>\n",
       "      <td>xho</td>\n",
       "      <td>umgaqosiseko wenza amalungiselelo kumaziko axh...</td>\n",
       "    </tr>\n",
       "    <tr>\n",
       "      <th>1</th>\n",
       "      <td>xho</td>\n",
       "      <td>idha iya kuba nobulumko bokubeka umsebenzi nap...</td>\n",
       "    </tr>\n",
       "    <tr>\n",
       "      <th>2</th>\n",
       "      <td>eng</td>\n",
       "      <td>the province of kwazulunatal department of tra...</td>\n",
       "    </tr>\n",
       "    <tr>\n",
       "      <th>3</th>\n",
       "      <td>nso</td>\n",
       "      <td>o netefatša gore o ba file dilo ka moka tše le...</td>\n",
       "    </tr>\n",
       "    <tr>\n",
       "      <th>4</th>\n",
       "      <td>ven</td>\n",
       "      <td>khomishini ya ndinganyiso ya mbeu yo ewa maana...</td>\n",
       "    </tr>\n",
       "  </tbody>\n",
       "</table>\n",
       "</div>"
      ],
      "text/plain": [
       "  lang_id                                               text\n",
       "0     xho  umgaqosiseko wenza amalungiselelo kumaziko axh...\n",
       "1     xho  idha iya kuba nobulumko bokubeka umsebenzi nap...\n",
       "2     eng  the province of kwazulunatal department of tra...\n",
       "3     nso  o netefatša gore o ba file dilo ka moka tše le...\n",
       "4     ven  khomishini ya ndinganyiso ya mbeu yo ewa maana..."
      ]
     },
     "execution_count": 15,
     "metadata": {},
     "output_type": "execute_result"
    }
   ],
   "source": [
    "df.head()"
   ]
  },
  {
   "cell_type": "code",
   "execution_count": 16,
   "metadata": {},
   "outputs": [
    {
     "data": {
      "text/html": [
       "<div>\n",
       "<style scoped>\n",
       "    .dataframe tbody tr th:only-of-type {\n",
       "        vertical-align: middle;\n",
       "    }\n",
       "\n",
       "    .dataframe tbody tr th {\n",
       "        vertical-align: top;\n",
       "    }\n",
       "\n",
       "    .dataframe thead th {\n",
       "        text-align: right;\n",
       "    }\n",
       "</style>\n",
       "<table border=\"1\" class=\"dataframe\">\n",
       "  <thead>\n",
       "    <tr style=\"text-align: right;\">\n",
       "      <th></th>\n",
       "      <th>index</th>\n",
       "      <th>text</th>\n",
       "    </tr>\n",
       "  </thead>\n",
       "  <tbody>\n",
       "    <tr>\n",
       "      <th>5677</th>\n",
       "      <td>5678</td>\n",
       "      <td>umthethosisekelo ugunyaza itjhuguluko ebujamen...</td>\n",
       "    </tr>\n",
       "    <tr>\n",
       "      <th>5678</th>\n",
       "      <td>5679</td>\n",
       "      <td>dikhampani kapa kgwebo tsa motho ya mong di lo...</td>\n",
       "    </tr>\n",
       "    <tr>\n",
       "      <th>5679</th>\n",
       "      <td>5680</td>\n",
       "      <td>dingaka di dumela hore motho ya tsubang dithet...</td>\n",
       "    </tr>\n",
       "    <tr>\n",
       "      <th>5680</th>\n",
       "      <td>5681</td>\n",
       "      <td>tumelo yeo e fiwago ka ntle ga afrika borwa e ...</td>\n",
       "    </tr>\n",
       "    <tr>\n",
       "      <th>5681</th>\n",
       "      <td>5682</td>\n",
       "      <td>bouto e tee go dihektara tše dingwe le tše din...</td>\n",
       "    </tr>\n",
       "  </tbody>\n",
       "</table>\n",
       "</div>"
      ],
      "text/plain": [
       "      index                                               text\n",
       "5677   5678  umthethosisekelo ugunyaza itjhuguluko ebujamen...\n",
       "5678   5679  dikhampani kapa kgwebo tsa motho ya mong di lo...\n",
       "5679   5680  dingaka di dumela hore motho ya tsubang dithet...\n",
       "5680   5681  tumelo yeo e fiwago ka ntle ga afrika borwa e ...\n",
       "5681   5682  bouto e tee go dihektara tše dingwe le tše din..."
      ]
     },
     "execution_count": 16,
     "metadata": {},
     "output_type": "execute_result"
    }
   ],
   "source": [
    "df_test.tail()"
   ]
  },
  {
   "cell_type": "code",
   "execution_count": 17,
   "metadata": {},
   "outputs": [
    {
     "data": {
      "text/plain": [
       "(33000, 2)"
      ]
     },
     "execution_count": 17,
     "metadata": {},
     "output_type": "execute_result"
    }
   ],
   "source": [
    "df.shape"
   ]
  },
  {
   "cell_type": "code",
   "execution_count": 18,
   "metadata": {},
   "outputs": [
    {
     "data": {
      "text/plain": [
       "(5682, 2)"
      ]
     },
     "execution_count": 18,
     "metadata": {},
     "output_type": "execute_result"
    }
   ],
   "source": [
    "df_test.shape"
   ]
  },
  {
   "cell_type": "code",
   "execution_count": 19,
   "metadata": {},
   "outputs": [
    {
     "data": {
      "text/plain": [
       "3063"
      ]
     },
     "execution_count": 19,
     "metadata": {},
     "output_type": "execute_result"
    }
   ],
   "source": [
    "# check for duplicate row in the data frame\n",
    "\n",
    "df.duplicated().sum()"
   ]
  },
  {
   "cell_type": "code",
   "execution_count": 20,
   "metadata": {},
   "outputs": [
    {
     "data": {
      "text/html": [
       "<div>\n",
       "<style scoped>\n",
       "    .dataframe tbody tr th:only-of-type {\n",
       "        vertical-align: middle;\n",
       "    }\n",
       "\n",
       "    .dataframe tbody tr th {\n",
       "        vertical-align: top;\n",
       "    }\n",
       "\n",
       "    .dataframe thead th {\n",
       "        text-align: right;\n",
       "    }\n",
       "</style>\n",
       "<table border=\"1\" class=\"dataframe\">\n",
       "  <thead>\n",
       "    <tr style=\"text-align: right;\">\n",
       "      <th></th>\n",
       "      <th>lang_id</th>\n",
       "      <th>text</th>\n",
       "    </tr>\n",
       "  </thead>\n",
       "  <tbody>\n",
       "    <tr>\n",
       "      <th>0</th>\n",
       "      <td>xho</td>\n",
       "      <td>umgaqosiseko wenza amalungiselelo kumaziko axh...</td>\n",
       "    </tr>\n",
       "    <tr>\n",
       "      <th>1</th>\n",
       "      <td>xho</td>\n",
       "      <td>idha iya kuba nobulumko bokubeka umsebenzi nap...</td>\n",
       "    </tr>\n",
       "    <tr>\n",
       "      <th>2</th>\n",
       "      <td>eng</td>\n",
       "      <td>the province of kwazulunatal department of tra...</td>\n",
       "    </tr>\n",
       "    <tr>\n",
       "      <th>3</th>\n",
       "      <td>nso</td>\n",
       "      <td>o netefatša gore o ba file dilo ka moka tše le...</td>\n",
       "    </tr>\n",
       "    <tr>\n",
       "      <th>4</th>\n",
       "      <td>ven</td>\n",
       "      <td>khomishini ya ndinganyiso ya mbeu yo ewa maana...</td>\n",
       "    </tr>\n",
       "  </tbody>\n",
       "</table>\n",
       "</div>"
      ],
      "text/plain": [
       "  lang_id                                               text\n",
       "0     xho  umgaqosiseko wenza amalungiselelo kumaziko axh...\n",
       "1     xho  idha iya kuba nobulumko bokubeka umsebenzi nap...\n",
       "2     eng  the province of kwazulunatal department of tra...\n",
       "3     nso  o netefatša gore o ba file dilo ka moka tše le...\n",
       "4     ven  khomishini ya ndinganyiso ya mbeu yo ewa maana..."
      ]
     },
     "execution_count": 20,
     "metadata": {},
     "output_type": "execute_result"
    }
   ],
   "source": [
    "df = df.drop_duplicates(keep = 'first')\n",
    "df.head()"
   ]
  },
  {
   "cell_type": "code",
   "execution_count": 21,
   "metadata": {},
   "outputs": [
    {
     "data": {
      "text/plain": [
       "(29937, 2)"
      ]
     },
     "execution_count": 21,
     "metadata": {},
     "output_type": "execute_result"
    }
   ],
   "source": [
    "df.shape"
   ]
  },
  {
   "cell_type": "code",
   "execution_count": 22,
   "metadata": {},
   "outputs": [
    {
     "data": {
      "text/plain": [
       "0"
      ]
     },
     "execution_count": 22,
     "metadata": {},
     "output_type": "execute_result"
    }
   ],
   "source": [
    "df_test.duplicated().sum()"
   ]
  },
  {
   "cell_type": "code",
   "execution_count": 23,
   "metadata": {},
   "outputs": [],
   "source": [
    "# A function that will remove punctucation, stopwords followed by stemming\n",
    "\n",
    "import nltk\n",
    "# nltk.download('words')  # Download the 'words' corpus\n",
    "\n",
    "from nltk.corpus import words\n",
    "\n",
    "def remove_short_words(text):\n",
    "    # Split the text into words\n",
    "    words_list = text.split()\n",
    "\n",
    "    # Filter out words with less than 3 characters\n",
    "    filtered_words = [word for word in words_list if len(word) >= 3]\n",
    "\n",
    "    # Join the filtered words back into a single string\n",
    "    filtered_text = ' '.join(filtered_words)\n",
    "\n",
    "    return filtered_text"
   ]
  },
  {
   "cell_type": "code",
   "execution_count": 24,
   "metadata": {},
   "outputs": [
    {
     "name": "stderr",
     "output_type": "stream",
     "text": [
      "C:\\Users\\rave_consolidate\\AppData\\Local\\Temp\\ipykernel_13260\\3312718439.py:1: SettingWithCopyWarning: \n",
      "A value is trying to be set on a copy of a slice from a DataFrame.\n",
      "Try using .loc[row_indexer,col_indexer] = value instead\n",
      "\n",
      "See the caveats in the documentation: https://pandas.pydata.org/pandas-docs/stable/user_guide/indexing.html#returning-a-view-versus-a-copy\n",
      "  df['clean_text'] = df['text'].apply(remove_short_words)\n"
     ]
    }
   ],
   "source": [
    "df['clean_text'] = df['text'].apply(remove_short_words)"
   ]
  },
  {
   "cell_type": "code",
   "execution_count": 25,
   "metadata": {},
   "outputs": [
    {
     "data": {
      "text/html": [
       "<div>\n",
       "<style scoped>\n",
       "    .dataframe tbody tr th:only-of-type {\n",
       "        vertical-align: middle;\n",
       "    }\n",
       "\n",
       "    .dataframe tbody tr th {\n",
       "        vertical-align: top;\n",
       "    }\n",
       "\n",
       "    .dataframe thead th {\n",
       "        text-align: right;\n",
       "    }\n",
       "</style>\n",
       "<table border=\"1\" class=\"dataframe\">\n",
       "  <thead>\n",
       "    <tr style=\"text-align: right;\">\n",
       "      <th></th>\n",
       "      <th>index</th>\n",
       "      <th>text</th>\n",
       "      <th>clean_text</th>\n",
       "    </tr>\n",
       "  </thead>\n",
       "  <tbody>\n",
       "    <tr>\n",
       "      <th>0</th>\n",
       "      <td>1</td>\n",
       "      <td>umgaqosiseko wenza amalungiselelo kumaziko axh...</td>\n",
       "      <td>umgaqosiseko wenza amalungiselelo kumaziko axh...</td>\n",
       "    </tr>\n",
       "    <tr>\n",
       "      <th>1</th>\n",
       "      <td>2</td>\n",
       "      <td>idha iya kuba nobulumko bokubeka umsebenzi nap...</td>\n",
       "      <td>idha iya kuba nobulumko bokubeka umsebenzi nap...</td>\n",
       "    </tr>\n",
       "    <tr>\n",
       "      <th>2</th>\n",
       "      <td>3</td>\n",
       "      <td>the province of kwazulunatal department of tra...</td>\n",
       "      <td>the province kwazulunatal department transport...</td>\n",
       "    </tr>\n",
       "    <tr>\n",
       "      <th>3</th>\n",
       "      <td>4</td>\n",
       "      <td>o netefatša gore o ba file dilo ka moka tše le...</td>\n",
       "      <td>netefatša gore file dilo moka tše dumelelanego...</td>\n",
       "    </tr>\n",
       "    <tr>\n",
       "      <th>4</th>\n",
       "      <td>5</td>\n",
       "      <td>khomishini ya ndinganyiso ya mbeu yo ewa maana...</td>\n",
       "      <td>khomishini ndinganyiso mbeu ewa maana nga mula...</td>\n",
       "    </tr>\n",
       "    <tr>\n",
       "      <th>...</th>\n",
       "      <td>...</td>\n",
       "      <td>...</td>\n",
       "      <td>...</td>\n",
       "    </tr>\n",
       "    <tr>\n",
       "      <th>5677</th>\n",
       "      <td>5678</td>\n",
       "      <td>umthethosisekelo ugunyaza itjhuguluko ebujamen...</td>\n",
       "      <td>umthethosisekelo ugunyaza itjhuguluko ebujamen...</td>\n",
       "    </tr>\n",
       "    <tr>\n",
       "      <th>5678</th>\n",
       "      <td>5679</td>\n",
       "      <td>dikhampani kapa kgwebo tsa motho ya mong di lo...</td>\n",
       "      <td>dikhampani kapa kgwebo tsa motho mong lokela f...</td>\n",
       "    </tr>\n",
       "    <tr>\n",
       "      <th>5679</th>\n",
       "      <td>5680</td>\n",
       "      <td>dingaka di dumela hore motho ya tsubang dithet...</td>\n",
       "      <td>dingaka dumela hore motho tsubang dithethefats...</td>\n",
       "    </tr>\n",
       "    <tr>\n",
       "      <th>5680</th>\n",
       "      <td>5681</td>\n",
       "      <td>tumelo yeo e fiwago ka ntle ga afrika borwa e ...</td>\n",
       "      <td>tumelo yeo fiwago ntle afrika borwa swanetše s...</td>\n",
       "    </tr>\n",
       "    <tr>\n",
       "      <th>5681</th>\n",
       "      <td>5682</td>\n",
       "      <td>bouto e tee go dihektara tše dingwe le tše din...</td>\n",
       "      <td>bouto tee dihektara tše dingwe tše dingwe tše ...</td>\n",
       "    </tr>\n",
       "  </tbody>\n",
       "</table>\n",
       "<p>5682 rows × 3 columns</p>\n",
       "</div>"
      ],
      "text/plain": [
       "      index                                               text  \\\n",
       "0         1  umgaqosiseko wenza amalungiselelo kumaziko axh...   \n",
       "1         2  idha iya kuba nobulumko bokubeka umsebenzi nap...   \n",
       "2         3  the province of kwazulunatal department of tra...   \n",
       "3         4  o netefatša gore o ba file dilo ka moka tše le...   \n",
       "4         5  khomishini ya ndinganyiso ya mbeu yo ewa maana...   \n",
       "...     ...                                                ...   \n",
       "5677   5678  umthethosisekelo ugunyaza itjhuguluko ebujamen...   \n",
       "5678   5679  dikhampani kapa kgwebo tsa motho ya mong di lo...   \n",
       "5679   5680  dingaka di dumela hore motho ya tsubang dithet...   \n",
       "5680   5681  tumelo yeo e fiwago ka ntle ga afrika borwa e ...   \n",
       "5681   5682  bouto e tee go dihektara tše dingwe le tše din...   \n",
       "\n",
       "                                             clean_text  \n",
       "0     umgaqosiseko wenza amalungiselelo kumaziko axh...  \n",
       "1     idha iya kuba nobulumko bokubeka umsebenzi nap...  \n",
       "2     the province kwazulunatal department transport...  \n",
       "3     netefatša gore file dilo moka tše dumelelanego...  \n",
       "4     khomishini ndinganyiso mbeu ewa maana nga mula...  \n",
       "...                                                 ...  \n",
       "5677  umthethosisekelo ugunyaza itjhuguluko ebujamen...  \n",
       "5678  dikhampani kapa kgwebo tsa motho mong lokela f...  \n",
       "5679  dingaka dumela hore motho tsubang dithethefats...  \n",
       "5680  tumelo yeo fiwago ntle afrika borwa swanetše s...  \n",
       "5681  bouto tee dihektara tše dingwe tše dingwe tše ...  \n",
       "\n",
       "[5682 rows x 3 columns]"
      ]
     },
     "execution_count": 25,
     "metadata": {},
     "output_type": "execute_result"
    }
   ],
   "source": [
    "df_test['clean_text'] = df_test['text'].apply(remove_short_words)\n",
    "df_test"
   ]
  },
  {
   "cell_type": "code",
   "execution_count": null,
   "metadata": {},
   "outputs": [],
   "source": []
  },
  {
   "cell_type": "code",
   "execution_count": 26,
   "metadata": {},
   "outputs": [
    {
     "data": {
      "text/html": [
       "<div>\n",
       "<style scoped>\n",
       "    .dataframe tbody tr th:only-of-type {\n",
       "        vertical-align: middle;\n",
       "    }\n",
       "\n",
       "    .dataframe tbody tr th {\n",
       "        vertical-align: top;\n",
       "    }\n",
       "\n",
       "    .dataframe thead th {\n",
       "        text-align: right;\n",
       "    }\n",
       "</style>\n",
       "<table border=\"1\" class=\"dataframe\">\n",
       "  <thead>\n",
       "    <tr style=\"text-align: right;\">\n",
       "      <th></th>\n",
       "      <th>lang_id</th>\n",
       "      <th>text</th>\n",
       "      <th>clean_text</th>\n",
       "    </tr>\n",
       "  </thead>\n",
       "  <tbody>\n",
       "    <tr>\n",
       "      <th>0</th>\n",
       "      <td>xho</td>\n",
       "      <td>umgaqosiseko wenza amalungiselelo kumaziko axhasa ulawulo lwesininzi kunye nokuthath inxaxheba kwabafazi ezi ziquka phakathi kwezinye zazo ikomishoni yokulingana ngokwesini ikomishoni yamalungelo oluntu lomzantsi afrika</td>\n",
       "      <td>umgaqosiseko wenza amalungiselelo kumaziko axhasa ulawulo lwesininzi kunye nokuthath inxaxheba kwabafazi ezi ziquka phakathi kwezinye zazo ikomishoni yokulingana ngokwesini ikomishoni yamalungelo oluntu lomzantsi afrika</td>\n",
       "    </tr>\n",
       "    <tr>\n",
       "      <th>1</th>\n",
       "      <td>xho</td>\n",
       "      <td>idha iya kuba nobulumko bokubeka umsebenzi naphi na kwisebe ngokusekwe kwiimfuno zokusebenza zalo emva kokubonana nomsebenzi kunye okanye imanyano yakhe ukuba ulandulo lomntu onjalo alufanelekanga idha mayibize uncedo olufanelekileyo elungelweni layo</td>\n",
       "      <td>idha iya kuba nobulumko bokubeka umsebenzi naphi kwisebe ngokusekwe kwiimfuno zokusebenza zalo emva kokubonana nomsebenzi kunye okanye imanyano yakhe ukuba ulandulo lomntu onjalo alufanelekanga idha mayibize uncedo olufanelekileyo elungelweni layo</td>\n",
       "    </tr>\n",
       "    <tr>\n",
       "      <th>2</th>\n",
       "      <td>eng</td>\n",
       "      <td>the province of kwazulunatal department of transport invites tenders from established contractors experienced in bridge construction for the construction of the kwajolwayo tugela river pedestrian bridge near tugela ferry the duration of the project will be months</td>\n",
       "      <td>the province kwazulunatal department transport invites tenders from established contractors experienced bridge construction for the construction the kwajolwayo tugela river pedestrian bridge near tugela ferry the duration the project will months</td>\n",
       "    </tr>\n",
       "    <tr>\n",
       "      <th>3</th>\n",
       "      <td>nso</td>\n",
       "      <td>o netefatša gore o ba file dilo ka moka tše le dumelelanego ka tšona mohlala maleri a magolo a a šomišwago go fihlelela meagong e metelele scaffolds a a bolokegilego lefelo la maleba la go šomela go phela gabotse bjbj</td>\n",
       "      <td>netefatša gore file dilo moka tše dumelelanego tšona mohlala maleri magolo šomišwago fihlelela meagong metelele scaffolds bolokegilego lefelo maleba šomela phela gabotse bjbj</td>\n",
       "    </tr>\n",
       "    <tr>\n",
       "      <th>4</th>\n",
       "      <td>ven</td>\n",
       "      <td>khomishini ya ndinganyiso ya mbeu yo ewa maana u ya nga mulayo wa khomishini ya ndinganyiso ya mbeu u thetshelesa mbilaelo dzine dza tshimbilelana na tshialula u ya nga mbeu nahone i ivhea sa foramu ya thungo u ya nga mulayo wa ndinganyiso</td>\n",
       "      <td>khomishini ndinganyiso mbeu ewa maana nga mulayo khomishini ndinganyiso mbeu thetshelesa mbilaelo dzine dza tshimbilelana tshialula nga mbeu nahone ivhea foramu thungo nga mulayo ndinganyiso</td>\n",
       "    </tr>\n",
       "    <tr>\n",
       "      <th>...</th>\n",
       "      <td>...</td>\n",
       "      <td>...</td>\n",
       "      <td>...</td>\n",
       "    </tr>\n",
       "    <tr>\n",
       "      <th>32994</th>\n",
       "      <td>eng</td>\n",
       "      <td>manuel marin s illfated debt sources but very little from fiscu would like to take this relief initiative in marin s acp countries opportunity to wish bongi the proposal to write off all acp notwithstanding the best of luck in her new job</td>\n",
       "      <td>manuel marin illfated debt sources but very little from fiscu would like take this relief initiative marin acp countries opportunity wish bongi the proposal write off all acp notwithstanding the best luck her new job</td>\n",
       "    </tr>\n",
       "    <tr>\n",
       "      <th>32995</th>\n",
       "      <td>tsn</td>\n",
       "      <td>popo ya dipolateforomo tse ke go tlisa boeteledipele ka mo saenseng ya lefatse ka mo go rona mme se ke kgato e kgolo ya go ya pele ka popontšhwa ya thekeniki ya biothekeniki ga bua motsamaisi wa thekenoloji ya biotekeniki wa lefapha la saense le thekenoloji mor ben durham</td>\n",
       "      <td>popo dipolateforomo tse tlisa boeteledipele saenseng lefatse rona mme kgato kgolo pele popontšhwa thekeniki biothekeniki bua motsamaisi thekenoloji biotekeniki lefapha saense thekenoloji mor ben durham</td>\n",
       "    </tr>\n",
       "    <tr>\n",
       "      <th>32997</th>\n",
       "      <td>eng</td>\n",
       "      <td>closing date for the submission of completed tenders is august at h no late submissions will be considered submissions must be enclosed in a sealed envelope and addressed to the chief executive officer at the above address</td>\n",
       "      <td>closing date for the submission completed tenders august late submissions will considered submissions must enclosed sealed envelope and addressed the chief executive officer the above address</td>\n",
       "    </tr>\n",
       "    <tr>\n",
       "      <th>32998</th>\n",
       "      <td>xho</td>\n",
       "      <td>nawuphina umntu ofunyenwe enetyala phantsi kwalo mthetho ujongene ujungene nesohlwayo sokudliwa imali okanye ukuvalelwa ixesha elingadluliyo kwiinyanga ezintandathu okanye kuzo zombini isohlwayo sokudliwa imali okanye ukuvalelwa</td>\n",
       "      <td>nawuphina umntu ofunyenwe enetyala phantsi kwalo mthetho ujongene ujungene nesohlwayo sokudliwa imali okanye ukuvalelwa ixesha elingadluliyo kwiinyanga ezintandathu okanye kuzo zombini isohlwayo sokudliwa imali okanye ukuvalelwa</td>\n",
       "    </tr>\n",
       "    <tr>\n",
       "      <th>32999</th>\n",
       "      <td>sot</td>\n",
       "      <td>mafapha a mang le ona a lokela ho etsa ditlaleho tsa ona ho latela dipehelo tsa nema merero yohle e lokela ho hlahlojwa ke komiti ya ditaba tsa tikoloho eo e kenyeleditseng motsamaisikakaretso wa lefapha</td>\n",
       "      <td>mafapha mang ona lokela etsa ditlaleho tsa ona latela dipehelo tsa nema merero yohle lokela hlahlojwa komiti ditaba tsa tikoloho kenyeleditseng motsamaisikakaretso lefapha</td>\n",
       "    </tr>\n",
       "  </tbody>\n",
       "</table>\n",
       "<p>29937 rows × 3 columns</p>\n",
       "</div>"
      ],
      "text/plain": [
       "      lang_id  \\\n",
       "0         xho   \n",
       "1         xho   \n",
       "2         eng   \n",
       "3         nso   \n",
       "4         ven   \n",
       "...       ...   \n",
       "32994     eng   \n",
       "32995     tsn   \n",
       "32997     eng   \n",
       "32998     xho   \n",
       "32999     sot   \n",
       "\n",
       "                                                                                                                                                                                                                                                                                   text  \\\n",
       "0                                                           umgaqosiseko wenza amalungiselelo kumaziko axhasa ulawulo lwesininzi kunye nokuthath inxaxheba kwabafazi ezi ziquka phakathi kwezinye zazo ikomishoni yokulingana ngokwesini ikomishoni yamalungelo oluntu lomzantsi afrika   \n",
       "1                            idha iya kuba nobulumko bokubeka umsebenzi naphi na kwisebe ngokusekwe kwiimfuno zokusebenza zalo emva kokubonana nomsebenzi kunye okanye imanyano yakhe ukuba ulandulo lomntu onjalo alufanelekanga idha mayibize uncedo olufanelekileyo elungelweni layo   \n",
       "2               the province of kwazulunatal department of transport invites tenders from established contractors experienced in bridge construction for the construction of the kwajolwayo tugela river pedestrian bridge near tugela ferry the duration of the project will be months   \n",
       "3                                                             o netefatša gore o ba file dilo ka moka tše le dumelelanego ka tšona mohlala maleri a magolo a a šomišwago go fihlelela meagong e metelele scaffolds a a bolokegilego lefelo la maleba la go šomela go phela gabotse bjbj   \n",
       "4                                       khomishini ya ndinganyiso ya mbeu yo ewa maana u ya nga mulayo wa khomishini ya ndinganyiso ya mbeu u thetshelesa mbilaelo dzine dza tshimbilelana na tshialula u ya nga mbeu nahone i ivhea sa foramu ya thungo u ya nga mulayo wa ndinganyiso   \n",
       "...                                                                                                                                                                                                                                                                                 ...   \n",
       "32994                                    manuel marin s illfated debt sources but very little from fiscu would like to take this relief initiative in marin s acp countries opportunity to wish bongi the proposal to write off all acp notwithstanding the best of luck in her new job   \n",
       "32995  popo ya dipolateforomo tse ke go tlisa boeteledipele ka mo saenseng ya lefatse ka mo go rona mme se ke kgato e kgolo ya go ya pele ka popontšhwa ya thekeniki ya biothekeniki ga bua motsamaisi wa thekenoloji ya biotekeniki wa lefapha la saense le thekenoloji mor ben durham   \n",
       "32997                                                    closing date for the submission of completed tenders is august at h no late submissions will be considered submissions must be enclosed in a sealed envelope and addressed to the chief executive officer at the above address   \n",
       "32998                                              nawuphina umntu ofunyenwe enetyala phantsi kwalo mthetho ujongene ujungene nesohlwayo sokudliwa imali okanye ukuvalelwa ixesha elingadluliyo kwiinyanga ezintandathu okanye kuzo zombini isohlwayo sokudliwa imali okanye ukuvalelwa   \n",
       "32999                                                                       mafapha a mang le ona a lokela ho etsa ditlaleho tsa ona ho latela dipehelo tsa nema merero yohle e lokela ho hlahlojwa ke komiti ya ditaba tsa tikoloho eo e kenyeleditseng motsamaisikakaretso wa lefapha   \n",
       "\n",
       "                                                                                                                                                                                                                                                    clean_text  \n",
       "0                                  umgaqosiseko wenza amalungiselelo kumaziko axhasa ulawulo lwesininzi kunye nokuthath inxaxheba kwabafazi ezi ziquka phakathi kwezinye zazo ikomishoni yokulingana ngokwesini ikomishoni yamalungelo oluntu lomzantsi afrika  \n",
       "1      idha iya kuba nobulumko bokubeka umsebenzi naphi kwisebe ngokusekwe kwiimfuno zokusebenza zalo emva kokubonana nomsebenzi kunye okanye imanyano yakhe ukuba ulandulo lomntu onjalo alufanelekanga idha mayibize uncedo olufanelekileyo elungelweni layo  \n",
       "2        the province kwazulunatal department transport invites tenders from established contractors experienced bridge construction for the construction the kwajolwayo tugela river pedestrian bridge near tugela ferry the duration the project will months  \n",
       "3                                                                               netefatša gore file dilo moka tše dumelelanego tšona mohlala maleri magolo šomišwago fihlelela meagong metelele scaffolds bolokegilego lefelo maleba šomela phela gabotse bjbj  \n",
       "4                                                               khomishini ndinganyiso mbeu ewa maana nga mulayo khomishini ndinganyiso mbeu thetshelesa mbilaelo dzine dza tshimbilelana tshialula nga mbeu nahone ivhea foramu thungo nga mulayo ndinganyiso  \n",
       "...                                                                                                                                                                                                                                                        ...  \n",
       "32994                                 manuel marin illfated debt sources but very little from fiscu would like take this relief initiative marin acp countries opportunity wish bongi the proposal write off all acp notwithstanding the best luck her new job  \n",
       "32995                                                popo dipolateforomo tse tlisa boeteledipele saenseng lefatse rona mme kgato kgolo pele popontšhwa thekeniki biothekeniki bua motsamaisi thekenoloji biotekeniki lefapha saense thekenoloji mor ben durham  \n",
       "32997                                                          closing date for the submission completed tenders august late submissions will considered submissions must enclosed sealed envelope and addressed the chief executive officer the above address  \n",
       "32998                     nawuphina umntu ofunyenwe enetyala phantsi kwalo mthetho ujongene ujungene nesohlwayo sokudliwa imali okanye ukuvalelwa ixesha elingadluliyo kwiinyanga ezintandathu okanye kuzo zombini isohlwayo sokudliwa imali okanye ukuvalelwa  \n",
       "32999                                                                              mafapha mang ona lokela etsa ditlaleho tsa ona latela dipehelo tsa nema merero yohle lokela hlahlojwa komiti ditaba tsa tikoloho kenyeleditseng motsamaisikakaretso lefapha  \n",
       "\n",
       "[29937 rows x 3 columns]"
      ]
     },
     "metadata": {},
     "output_type": "display_data"
    }
   ],
   "source": [
    "with pd.option_context('display.max_colwidth', None):\n",
    "  display(df)"
   ]
  },
  {
   "cell_type": "code",
   "execution_count": 27,
   "metadata": {},
   "outputs": [
    {
     "data": {
      "text/html": [
       "<div>\n",
       "<style scoped>\n",
       "    .dataframe tbody tr th:only-of-type {\n",
       "        vertical-align: middle;\n",
       "    }\n",
       "\n",
       "    .dataframe tbody tr th {\n",
       "        vertical-align: top;\n",
       "    }\n",
       "\n",
       "    .dataframe thead th {\n",
       "        text-align: right;\n",
       "    }\n",
       "</style>\n",
       "<table border=\"1\" class=\"dataframe\">\n",
       "  <thead>\n",
       "    <tr style=\"text-align: right;\">\n",
       "      <th></th>\n",
       "      <th>index</th>\n",
       "      <th>text</th>\n",
       "      <th>clean_text</th>\n",
       "    </tr>\n",
       "  </thead>\n",
       "  <tbody>\n",
       "    <tr>\n",
       "      <th>0</th>\n",
       "      <td>1</td>\n",
       "      <td>umgaqosiseko wenza amalungiselelo kumaziko axhasa ulawulo lwesininzi kunye nokuthath inxaxheba kwabafazi ezi ziquka phakathi kwezinye zazo ikomishoni yokulingana ngokwesini ikomishoni yamalungelo oluntu lomzantsi afrika</td>\n",
       "      <td>umgaqosiseko wenza amalungiselelo kumaziko axhasa ulawulo lwesininzi kunye nokuthath inxaxheba kwabafazi ezi ziquka phakathi kwezinye zazo ikomishoni yokulingana ngokwesini ikomishoni yamalungelo oluntu lomzantsi afrika</td>\n",
       "    </tr>\n",
       "    <tr>\n",
       "      <th>1</th>\n",
       "      <td>2</td>\n",
       "      <td>idha iya kuba nobulumko bokubeka umsebenzi naphi na kwisebe ngokusekwe kwiimfuno zokusebenza zalo emva kokubonana nomsebenzi kunye okanye imanyano yakhe ukuba ulandulo lomntu onjalo alufanelekanga idha mayibize uncedo olufanelekileyo elungelweni layo</td>\n",
       "      <td>idha iya kuba nobulumko bokubeka umsebenzi naphi kwisebe ngokusekwe kwiimfuno zokusebenza zalo emva kokubonana nomsebenzi kunye okanye imanyano yakhe ukuba ulandulo lomntu onjalo alufanelekanga idha mayibize uncedo olufanelekileyo elungelweni layo</td>\n",
       "    </tr>\n",
       "    <tr>\n",
       "      <th>2</th>\n",
       "      <td>3</td>\n",
       "      <td>the province of kwazulunatal department of transport invites tenders from established contractors experienced in bridge construction for the construction of the kwajolwayo tugela river pedestrian bridge near tugela ferry the duration of the project will be months</td>\n",
       "      <td>the province kwazulunatal department transport invites tenders from established contractors experienced bridge construction for the construction the kwajolwayo tugela river pedestrian bridge near tugela ferry the duration the project will months</td>\n",
       "    </tr>\n",
       "    <tr>\n",
       "      <th>3</th>\n",
       "      <td>4</td>\n",
       "      <td>o netefatša gore o ba file dilo ka moka tše le dumelelanego ka tšona mohlala maleri a magolo a a šomišwago go fihlelela meagong e metelele scaffolds a a bolokegilego lefelo la maleba la go šomela go phela gabotse bjbj</td>\n",
       "      <td>netefatša gore file dilo moka tše dumelelanego tšona mohlala maleri magolo šomišwago fihlelela meagong metelele scaffolds bolokegilego lefelo maleba šomela phela gabotse bjbj</td>\n",
       "    </tr>\n",
       "    <tr>\n",
       "      <th>4</th>\n",
       "      <td>5</td>\n",
       "      <td>khomishini ya ndinganyiso ya mbeu yo ewa maana u ya nga mulayo wa khomishini ya ndinganyiso ya mbeu u thetshelesa mbilaelo dzine dza tshimbilelana na tshialula u ya nga mbeu nahone i ivhea sa foramu ya thungo u ya nga mulayo wa ndinganyiso</td>\n",
       "      <td>khomishini ndinganyiso mbeu ewa maana nga mulayo khomishini ndinganyiso mbeu thetshelesa mbilaelo dzine dza tshimbilelana tshialula nga mbeu nahone ivhea foramu thungo nga mulayo ndinganyiso</td>\n",
       "    </tr>\n",
       "    <tr>\n",
       "      <th>...</th>\n",
       "      <td>...</td>\n",
       "      <td>...</td>\n",
       "      <td>...</td>\n",
       "    </tr>\n",
       "    <tr>\n",
       "      <th>5677</th>\n",
       "      <td>5678</td>\n",
       "      <td>umthethosisekelo ugunyaza itjhuguluko ebujameni belimi inarha yoke ngokunikela itjhejo lezokuhlalisana nezombanganarha eenqhemeni zamalimi egade adinywe amathuba ngokuya kweendingo ezizwakalisiweko zemiphakathi kunye neenqhema ezinekareko</td>\n",
       "      <td>umthethosisekelo ugunyaza itjhuguluko ebujameni belimi inarha yoke ngokunikela itjhejo lezokuhlalisana nezombanganarha eenqhemeni zamalimi egade adinywe amathuba ngokuya kweendingo ezizwakalisiweko zemiphakathi kunye neenqhema ezinekareko</td>\n",
       "    </tr>\n",
       "    <tr>\n",
       "      <th>5678</th>\n",
       "      <td>5679</td>\n",
       "      <td>dikhampani kapa kgwebo tsa motho ya mong di lokela ho fana ka clearance certificate sa lekgetho se sebetsang hore di une molemo ho tswa sekiming ka hoo lekgetho la hao le lokela ho ba maemong a lokileng</td>\n",
       "      <td>dikhampani kapa kgwebo tsa motho mong lokela fana clearance certificate lekgetho sebetsang hore une molemo tswa sekiming hoo lekgetho hao lokela maemong lokileng</td>\n",
       "    </tr>\n",
       "    <tr>\n",
       "      <th>5679</th>\n",
       "      <td>5680</td>\n",
       "      <td>dingaka di dumela hore motho ya tsubang dithethefatsi o ka mo nyonya kapa hona ho mo hloela lefu etswe ha di tsamaye di le ding thethefatsi tsena di ka tsamaisana le hore motho a senyehelwe kemosebetsi di theola seriti hape le ba o potapotileng ha ba sa o tshepa ebile ba a o kgesa</td>\n",
       "      <td>dingaka dumela hore motho tsubang dithethefatsi nyonya kapa hona hloela lefu etswe tsamaye ding thethefatsi tsena tsamaisana hore motho senyehelwe kemosebetsi theola seriti hape potapotileng tshepa ebile kgesa</td>\n",
       "    </tr>\n",
       "    <tr>\n",
       "      <th>5680</th>\n",
       "      <td>5681</td>\n",
       "      <td>tumelo yeo e fiwago ka ntle ga afrika borwa e swanetše go saenwa mme ya netefatšwa pele mohlankedi ka go ditirelo tša afrika borwa tša botipolomata goba boromiwa bja khonsuleiti goba ka moahlodi magaseterata moahlodi wa khutšo goba mohlankedi wa setšhaba wa naga yeo e amegago</td>\n",
       "      <td>tumelo yeo fiwago ntle afrika borwa swanetše saenwa mme netefatšwa pele mohlankedi ditirelo tša afrika borwa tša botipolomata goba boromiwa bja khonsuleiti goba moahlodi magaseterata moahlodi khutšo goba mohlankedi setšhaba naga yeo amegago</td>\n",
       "    </tr>\n",
       "    <tr>\n",
       "      <th>5681</th>\n",
       "      <td>5682</td>\n",
       "      <td>bouto e tee go dihektara tše dingwe le tše dingwe tše tlhano goba karolo ya dihektara tša naga yeo e ka nošetšwago go ya ka dipeelano tša tokelo ya leloko ge fela go ka se be le leloko leo le tlogo fiwa dibouto tša go feta</td>\n",
       "      <td>bouto tee dihektara tše dingwe tše dingwe tše tlhano goba karolo dihektara tša naga yeo nošetšwago dipeelano tša tokelo leloko fela leloko leo tlogo fiwa dibouto tša feta</td>\n",
       "    </tr>\n",
       "  </tbody>\n",
       "</table>\n",
       "<p>5682 rows × 3 columns</p>\n",
       "</div>"
      ],
      "text/plain": [
       "      index  \\\n",
       "0         1   \n",
       "1         2   \n",
       "2         3   \n",
       "3         4   \n",
       "4         5   \n",
       "...     ...   \n",
       "5677   5678   \n",
       "5678   5679   \n",
       "5679   5680   \n",
       "5680   5681   \n",
       "5681   5682   \n",
       "\n",
       "                                                                                                                                                                                                                                                                                           text  \\\n",
       "0                                                                   umgaqosiseko wenza amalungiselelo kumaziko axhasa ulawulo lwesininzi kunye nokuthath inxaxheba kwabafazi ezi ziquka phakathi kwezinye zazo ikomishoni yokulingana ngokwesini ikomishoni yamalungelo oluntu lomzantsi afrika   \n",
       "1                                    idha iya kuba nobulumko bokubeka umsebenzi naphi na kwisebe ngokusekwe kwiimfuno zokusebenza zalo emva kokubonana nomsebenzi kunye okanye imanyano yakhe ukuba ulandulo lomntu onjalo alufanelekanga idha mayibize uncedo olufanelekileyo elungelweni layo   \n",
       "2                       the province of kwazulunatal department of transport invites tenders from established contractors experienced in bridge construction for the construction of the kwajolwayo tugela river pedestrian bridge near tugela ferry the duration of the project will be months   \n",
       "3                                                                     o netefatša gore o ba file dilo ka moka tše le dumelelanego ka tšona mohlala maleri a magolo a a šomišwago go fihlelela meagong e metelele scaffolds a a bolokegilego lefelo la maleba la go šomela go phela gabotse bjbj   \n",
       "4                                               khomishini ya ndinganyiso ya mbeu yo ewa maana u ya nga mulayo wa khomishini ya ndinganyiso ya mbeu u thetshelesa mbilaelo dzine dza tshimbilelana na tshialula u ya nga mbeu nahone i ivhea sa foramu ya thungo u ya nga mulayo wa ndinganyiso   \n",
       "...                                                                                                                                                                                                                                                                                         ...   \n",
       "5677                                             umthethosisekelo ugunyaza itjhuguluko ebujameni belimi inarha yoke ngokunikela itjhejo lezokuhlalisana nezombanganarha eenqhemeni zamalimi egade adinywe amathuba ngokuya kweendingo ezizwakalisiweko zemiphakathi kunye neenqhema ezinekareko   \n",
       "5678                                                                                 dikhampani kapa kgwebo tsa motho ya mong di lokela ho fana ka clearance certificate sa lekgetho se sebetsang hore di une molemo ho tswa sekiming ka hoo lekgetho la hao le lokela ho ba maemong a lokileng   \n",
       "5679  dingaka di dumela hore motho ya tsubang dithethefatsi o ka mo nyonya kapa hona ho mo hloela lefu etswe ha di tsamaye di le ding thethefatsi tsena di ka tsamaisana le hore motho a senyehelwe kemosebetsi di theola seriti hape le ba o potapotileng ha ba sa o tshepa ebile ba a o kgesa   \n",
       "5680       tumelo yeo e fiwago ka ntle ga afrika borwa e swanetše go saenwa mme ya netefatšwa pele mohlankedi ka go ditirelo tša afrika borwa tša botipolomata goba boromiwa bja khonsuleiti goba ka moahlodi magaseterata moahlodi wa khutšo goba mohlankedi wa setšhaba wa naga yeo e amegago   \n",
       "5681                                                             bouto e tee go dihektara tše dingwe le tše dingwe tše tlhano goba karolo ya dihektara tša naga yeo e ka nošetšwago go ya ka dipeelano tša tokelo ya leloko ge fela go ka se be le leloko leo le tlogo fiwa dibouto tša go feta   \n",
       "\n",
       "                                                                                                                                                                                                                                                   clean_text  \n",
       "0                                 umgaqosiseko wenza amalungiselelo kumaziko axhasa ulawulo lwesininzi kunye nokuthath inxaxheba kwabafazi ezi ziquka phakathi kwezinye zazo ikomishoni yokulingana ngokwesini ikomishoni yamalungelo oluntu lomzantsi afrika  \n",
       "1     idha iya kuba nobulumko bokubeka umsebenzi naphi kwisebe ngokusekwe kwiimfuno zokusebenza zalo emva kokubonana nomsebenzi kunye okanye imanyano yakhe ukuba ulandulo lomntu onjalo alufanelekanga idha mayibize uncedo olufanelekileyo elungelweni layo  \n",
       "2       the province kwazulunatal department transport invites tenders from established contractors experienced bridge construction for the construction the kwajolwayo tugela river pedestrian bridge near tugela ferry the duration the project will months  \n",
       "3                                                                              netefatša gore file dilo moka tše dumelelanego tšona mohlala maleri magolo šomišwago fihlelela meagong metelele scaffolds bolokegilego lefelo maleba šomela phela gabotse bjbj  \n",
       "4                                                              khomishini ndinganyiso mbeu ewa maana nga mulayo khomishini ndinganyiso mbeu thetshelesa mbilaelo dzine dza tshimbilelana tshialula nga mbeu nahone ivhea foramu thungo nga mulayo ndinganyiso  \n",
       "...                                                                                                                                                                                                                                                       ...  \n",
       "5677           umthethosisekelo ugunyaza itjhuguluko ebujameni belimi inarha yoke ngokunikela itjhejo lezokuhlalisana nezombanganarha eenqhemeni zamalimi egade adinywe amathuba ngokuya kweendingo ezizwakalisiweko zemiphakathi kunye neenqhema ezinekareko  \n",
       "5678                                                                                        dikhampani kapa kgwebo tsa motho mong lokela fana clearance certificate lekgetho sebetsang hore une molemo tswa sekiming hoo lekgetho hao lokela maemong lokileng  \n",
       "5679                                        dingaka dumela hore motho tsubang dithethefatsi nyonya kapa hona hloela lefu etswe tsamaye ding thethefatsi tsena tsamaisana hore motho senyehelwe kemosebetsi theola seriti hape potapotileng tshepa ebile kgesa  \n",
       "5680         tumelo yeo fiwago ntle afrika borwa swanetše saenwa mme netefatšwa pele mohlankedi ditirelo tša afrika borwa tša botipolomata goba boromiwa bja khonsuleiti goba moahlodi magaseterata moahlodi khutšo goba mohlankedi setšhaba naga yeo amegago  \n",
       "5681                                                                               bouto tee dihektara tše dingwe tše dingwe tše tlhano goba karolo dihektara tša naga yeo nošetšwago dipeelano tša tokelo leloko fela leloko leo tlogo fiwa dibouto tša feta  \n",
       "\n",
       "[5682 rows x 3 columns]"
      ]
     },
     "metadata": {},
     "output_type": "display_data"
    }
   ],
   "source": [
    "with pd.option_context('display.max_colwidth', None):\n",
    "  display(df_test)"
   ]
  },
  {
   "cell_type": "code",
   "execution_count": null,
   "metadata": {},
   "outputs": [],
   "source": []
  },
  {
   "cell_type": "code",
   "execution_count": 28,
   "metadata": {},
   "outputs": [
    {
     "data": {
      "image/png": "[encoded data removed]",
      "text/plain": [
       "<Figure size 640x480 with 1 Axes>"
      ]
     },
     "metadata": {},
     "output_type": "display_data"
    }
   ],
   "source": [
    "# To visualize the distributon of the sentiments, we plot a count plot and the unique sentiments we have \n",
    "\n",
    "sns.countplot(x = 'lang_id', data = df, palette=\"hls\")\n",
    "plt.title(\"Languages labels in South Africa\");"
   ]
  },
  {
   "cell_type": "markdown",
   "metadata": {},
   "source": [
    "#### Observation: \n",
    "\n",
    "- from the bar graph above, we can deduce that we have 11 of languages.\n",
    "- and the data is not balanced"
   ]
  },
  {
   "cell_type": "code",
   "execution_count": 29,
   "metadata": {},
   "outputs": [
    {
     "data": {
      "text/html": [
       "<div>\n",
       "<style scoped>\n",
       "    .dataframe tbody tr th:only-of-type {\n",
       "        vertical-align: middle;\n",
       "    }\n",
       "\n",
       "    .dataframe tbody tr th {\n",
       "        vertical-align: top;\n",
       "    }\n",
       "\n",
       "    .dataframe thead th {\n",
       "        text-align: right;\n",
       "    }\n",
       "</style>\n",
       "<table border=\"1\" class=\"dataframe\">\n",
       "  <thead>\n",
       "    <tr style=\"text-align: right;\">\n",
       "      <th></th>\n",
       "      <th>lang_id</th>\n",
       "      <th>text</th>\n",
       "      <th>clean_text</th>\n",
       "    </tr>\n",
       "  </thead>\n",
       "  <tbody>\n",
       "    <tr>\n",
       "      <th>0</th>\n",
       "      <td>xho</td>\n",
       "      <td>umgaqosiseko wenza amalungiselelo kumaziko axh...</td>\n",
       "      <td>umgaqosiseko wenza amalungiselelo kumaziko axh...</td>\n",
       "    </tr>\n",
       "    <tr>\n",
       "      <th>1</th>\n",
       "      <td>xho</td>\n",
       "      <td>idha iya kuba nobulumko bokubeka umsebenzi nap...</td>\n",
       "      <td>idha iya kuba nobulumko bokubeka umsebenzi nap...</td>\n",
       "    </tr>\n",
       "    <tr>\n",
       "      <th>2</th>\n",
       "      <td>eng</td>\n",
       "      <td>the province of kwazulunatal department of tra...</td>\n",
       "      <td>the province kwazulunatal department transport...</td>\n",
       "    </tr>\n",
       "    <tr>\n",
       "      <th>3</th>\n",
       "      <td>nso</td>\n",
       "      <td>o netefatša gore o ba file dilo ka moka tše le...</td>\n",
       "      <td>netefatša gore file dilo moka tše dumelelanego...</td>\n",
       "    </tr>\n",
       "    <tr>\n",
       "      <th>4</th>\n",
       "      <td>ven</td>\n",
       "      <td>khomishini ya ndinganyiso ya mbeu yo ewa maana...</td>\n",
       "      <td>khomishini ndinganyiso mbeu ewa maana nga mula...</td>\n",
       "    </tr>\n",
       "  </tbody>\n",
       "</table>\n",
       "</div>"
      ],
      "text/plain": [
       "  lang_id                                               text  \\\n",
       "0     xho  umgaqosiseko wenza amalungiselelo kumaziko axh...   \n",
       "1     xho  idha iya kuba nobulumko bokubeka umsebenzi nap...   \n",
       "2     eng  the province of kwazulunatal department of tra...   \n",
       "3     nso  o netefatša gore o ba file dilo ka moka tše le...   \n",
       "4     ven  khomishini ya ndinganyiso ya mbeu yo ewa maana...   \n",
       "\n",
       "                                          clean_text  \n",
       "0  umgaqosiseko wenza amalungiselelo kumaziko axh...  \n",
       "1  idha iya kuba nobulumko bokubeka umsebenzi nap...  \n",
       "2  the province kwazulunatal department transport...  \n",
       "3  netefatša gore file dilo moka tše dumelelanego...  \n",
       "4  khomishini ndinganyiso mbeu ewa maana nga mula...  "
      ]
     },
     "execution_count": 29,
     "metadata": {},
     "output_type": "execute_result"
    }
   ],
   "source": [
    "df.head()"
   ]
  },
  {
   "cell_type": "markdown",
   "metadata": {},
   "source": [
    "## 4. Feature Engineering\n",
    "\n",
    "\n",
    "| In this section, we extract features from the text data and tranform them into the appropriate format for training our model. |\n",
    "---"
   ]
  },
  {
   "cell_type": "code",
   "execution_count": 30,
   "metadata": {},
   "outputs": [],
   "source": [
    "df_new = df"
   ]
  },
  {
   "cell_type": "code",
   "execution_count": 31,
   "metadata": {},
   "outputs": [
    {
     "data": {
      "text/html": [
       "<div>\n",
       "<style scoped>\n",
       "    .dataframe tbody tr th:only-of-type {\n",
       "        vertical-align: middle;\n",
       "    }\n",
       "\n",
       "    .dataframe tbody tr th {\n",
       "        vertical-align: top;\n",
       "    }\n",
       "\n",
       "    .dataframe thead th {\n",
       "        text-align: right;\n",
       "    }\n",
       "</style>\n",
       "<table border=\"1\" class=\"dataframe\">\n",
       "  <thead>\n",
       "    <tr style=\"text-align: right;\">\n",
       "      <th></th>\n",
       "      <th>lang_id</th>\n",
       "      <th>text</th>\n",
       "      <th>clean_text</th>\n",
       "    </tr>\n",
       "  </thead>\n",
       "  <tbody>\n",
       "    <tr>\n",
       "      <th>0</th>\n",
       "      <td>xho</td>\n",
       "      <td>umgaqosiseko wenza amalungiselelo kumaziko axh...</td>\n",
       "      <td>umgaqosiseko wenza amalungiselelo kumaziko axh...</td>\n",
       "    </tr>\n",
       "    <tr>\n",
       "      <th>1</th>\n",
       "      <td>xho</td>\n",
       "      <td>idha iya kuba nobulumko bokubeka umsebenzi nap...</td>\n",
       "      <td>idha iya kuba nobulumko bokubeka umsebenzi nap...</td>\n",
       "    </tr>\n",
       "    <tr>\n",
       "      <th>2</th>\n",
       "      <td>eng</td>\n",
       "      <td>the province of kwazulunatal department of tra...</td>\n",
       "      <td>the province kwazulunatal department transport...</td>\n",
       "    </tr>\n",
       "    <tr>\n",
       "      <th>3</th>\n",
       "      <td>nso</td>\n",
       "      <td>o netefatša gore o ba file dilo ka moka tše le...</td>\n",
       "      <td>netefatša gore file dilo moka tše dumelelanego...</td>\n",
       "    </tr>\n",
       "    <tr>\n",
       "      <th>4</th>\n",
       "      <td>ven</td>\n",
       "      <td>khomishini ya ndinganyiso ya mbeu yo ewa maana...</td>\n",
       "      <td>khomishini ndinganyiso mbeu ewa maana nga mula...</td>\n",
       "    </tr>\n",
       "  </tbody>\n",
       "</table>\n",
       "</div>"
      ],
      "text/plain": [
       "  lang_id                                               text  \\\n",
       "0     xho  umgaqosiseko wenza amalungiselelo kumaziko axh...   \n",
       "1     xho  idha iya kuba nobulumko bokubeka umsebenzi nap...   \n",
       "2     eng  the province of kwazulunatal department of tra...   \n",
       "3     nso  o netefatša gore o ba file dilo ka moka tše le...   \n",
       "4     ven  khomishini ya ndinganyiso ya mbeu yo ewa maana...   \n",
       "\n",
       "                                          clean_text  \n",
       "0  umgaqosiseko wenza amalungiselelo kumaziko axh...  \n",
       "1  idha iya kuba nobulumko bokubeka umsebenzi nap...  \n",
       "2  the province kwazulunatal department transport...  \n",
       "3  netefatša gore file dilo moka tše dumelelanego...  \n",
       "4  khomishini ndinganyiso mbeu ewa maana nga mula...  "
      ]
     },
     "execution_count": 31,
     "metadata": {},
     "output_type": "execute_result"
    }
   ],
   "source": [
    "df_new.head()"
   ]
  },
  {
   "cell_type": "code",
   "execution_count": 32,
   "metadata": {},
   "outputs": [],
   "source": [
    "# Assigning the features and the labels\n",
    "\n",
    "X = df.clean_text\n",
    "\n",
    "y = df.lang_id"
   ]
  },
  {
   "cell_type": "code",
   "execution_count": 33,
   "metadata": {},
   "outputs": [
    {
     "data": {
      "text/plain": [
       "0"
      ]
     },
     "execution_count": 33,
     "metadata": {},
     "output_type": "execute_result"
    }
   ],
   "source": [
    "y.isnull().sum()"
   ]
  },
  {
   "cell_type": "code",
   "execution_count": 34,
   "metadata": {},
   "outputs": [
    {
     "data": {
      "text/plain": [
       "array([['umgaqosiseko wenza amalungiselelo kumaziko axhasa ulawulo lwesininzi kunye nokuthath inxaxheba kwabafazi ezi ziquka phakathi kwezinye zazo ikomishoni yokulingana ngokwesini ikomishoni yamalungelo oluntu lomzantsi afrika'],\n",
       "       ['idha iya kuba nobulumko bokubeka umsebenzi naphi kwisebe ngokusekwe kwiimfuno zokusebenza zalo emva kokubonana nomsebenzi kunye okanye imanyano yakhe ukuba ulandulo lomntu onjalo alufanelekanga idha mayibize uncedo olufanelekileyo elungelweni layo'],\n",
       "       ['the province kwazulunatal department transport invites tenders from established contractors experienced bridge construction for the construction the kwajolwayo tugela river pedestrian bridge near tugela ferry the duration the project will months'],\n",
       "       ...,\n",
       "       ['closing date for the submission completed tenders august late submissions will considered submissions must enclosed sealed envelope and addressed the chief executive officer the above address'],\n",
       "       ['nawuphina umntu ofunyenwe enetyala phantsi kwalo mthetho ujongene ujungene nesohlwayo sokudliwa imali okanye ukuvalelwa ixesha elingadluliyo kwiinyanga ezintandathu okanye kuzo zombini isohlwayo sokudliwa imali okanye ukuvalelwa'],\n",
       "       ['mafapha mang ona lokela etsa ditlaleho tsa ona latela dipehelo tsa nema merero yohle lokela hlahlojwa komiti ditaba tsa tikoloho kenyeleditseng motsamaisikakaretso lefapha']],\n",
       "      dtype=object)"
      ]
     },
     "execution_count": 34,
     "metadata": {},
     "output_type": "execute_result"
    }
   ],
   "source": [
    "X = np.array(X)\n",
    "X = X.reshape(-1, 1)\n",
    "X"
   ]
  },
  {
   "cell_type": "code",
   "execution_count": 35,
   "metadata": {},
   "outputs": [
    {
     "data": {
      "text/plain": [
       "Counter({'xho': 2658,\n",
       "         'eng': 2996,\n",
       "         'nso': 2873,\n",
       "         'ven': 2605,\n",
       "         'tsn': 2869,\n",
       "         'nbl': 2362,\n",
       "         'zul': 2924,\n",
       "         'ssw': 2424,\n",
       "         'tso': 2757,\n",
       "         'sot': 2829,\n",
       "         'afr': 2640})"
      ]
     },
     "execution_count": 35,
     "metadata": {},
     "output_type": "execute_result"
    }
   ],
   "source": [
    "from collections import Counter\n",
    "c = Counter(y) # count the values in the labels\n",
    "c"
   ]
  },
  {
   "cell_type": "code",
   "execution_count": 36,
   "metadata": {},
   "outputs": [],
   "source": [
    "#fix label imbalance using the imblearn module to carry out over sampling and under sampling and build the models to check for accuracy\n",
    "\n",
    "from imblearn.over_sampling import RandomOverSampler\n",
    "from imblearn.under_sampling import RandomUnderSampler\n",
    "from collections import Counter\n",
    "\n",
    "ros = RandomOverSampler()"
   ]
  },
  {
   "cell_type": "code",
   "execution_count": 56,
   "metadata": {},
   "outputs": [
    {
     "name": "stdout",
     "output_type": "stream",
     "text": [
      "Counter({'xho': 2996, 'eng': 2996, 'nso': 2996, 'ven': 2996, 'tsn': 2996, 'nbl': 2996, 'zul': 2996, 'ssw': 2996, 'tso': 2996, 'sot': 2996, 'afr': 2996})\n"
     ]
    }
   ],
   "source": [
    "# Application of the Oversampling technique\n",
    "\n",
    "X_ROS, y_ROS = ros.fit_resample(X, y)\n",
    "print(Counter(y_ROS))"
   ]
  },
  {
   "cell_type": "code",
   "execution_count": 57,
   "metadata": {},
   "outputs": [],
   "source": [
    "# Convert X_train and X_test to lists of strings\n",
    "X_list = [str(x) for x in X_ROS]"
   ]
  },
  {
   "cell_type": "code",
   "execution_count": null,
   "metadata": {},
   "outputs": [],
   "source": []
  },
  {
   "cell_type": "code",
   "execution_count": null,
   "metadata": {},
   "outputs": [],
   "source": []
  },
  {
   "cell_type": "code",
   "execution_count": 59,
   "metadata": {},
   "outputs": [],
   "source": [
    "# from sklearn.preprocessing import LabelEncoder\n",
    "\n",
    "# # Create a label encoder object\n",
    "# label_encoder = LabelEncoder()\n",
    "\n",
    "# # Fit the label encoder to the categories and transform the labels\n",
    "# encoded_labels = label_encoder.fit_transform(y_ROS)"
   ]
  },
  {
   "cell_type": "code",
   "execution_count": 39,
   "metadata": {},
   "outputs": [],
   "source": [
    "# # Transform the encoded labels back to the original categories\n",
    "# decoded_labels = label_encoder.inverse_transform(encoded_labels)\n",
    "\n",
    "# # Print the decoded labels\n",
    "# print(decoded_labels)"
   ]
  },
  {
   "cell_type": "code",
   "execution_count": null,
   "metadata": {},
   "outputs": [],
   "source": [
    "# Counter(encoded_labels)"
   ]
  },
  {
   "cell_type": "code",
   "execution_count": 41,
   "metadata": {},
   "outputs": [],
   "source": [
    "# # we will use the ngram to capture sematic relationship between words in each language\n",
    "\n",
    "# import scipy.sparse as sp\n",
    "\n",
    "# def extract_language_features(text):\n",
    "#     # Flatten the array of text documents\n",
    "#     text = text.flatten()\n",
    "\n",
    "#     # Character n-grams\n",
    "#     char_ngram_range = (2, 4)  # Example: Extract character 2-grams, 3-grams, and 4-grams\n",
    "#     char_vectorizer = TfidfVectorizer(ngram_range=char_ngram_range, analyzer='char')\n",
    "#     char_ngrams = char_vectorizer.fit_transform(text)\n",
    "\n",
    "#     # Word n-grams\n",
    "#     word_ngram_range = (1, 3)  # Example: Extract word 1-grams, 2-grams, and 3-grams\n",
    "#     word_vectorizer = TfidfVectorizer(ngram_range=word_ngram_range, analyzer='word')\n",
    "#     word_ngrams = word_vectorizer.fit_transform(text)\n",
    "\n",
    "#     # Combine the features\n",
    "#     features = sp.hstack((char_ngrams, word_ngrams))\n",
    "\n",
    "#     return features"
   ]
  },
  {
   "cell_type": "code",
   "execution_count": 61,
   "metadata": {},
   "outputs": [],
   "source": [
    "# Lets split the data using the sklearn train test_test_split module\n",
    "\n",
    "from sklearn.model_selection import train_test_split\n",
    "\n",
    "# Split the data set to training and validation data sets\n",
    "X_train, X_val, y_train, y_val = train_test_split(X_ROS, y_ROS, test_size=0.2, random_state=42)"
   ]
  },
  {
   "cell_type": "markdown",
   "metadata": {},
   "source": [
    "# Model Building\n",
    "\n",
    "**we'll make use of the countvectorizer and TfidfTransformer for feature transformation on our tweets and converting it to binary array for our classifier**"
   ]
  },
  {
   "cell_type": "code",
   "execution_count": 48,
   "metadata": {},
   "outputs": [],
   "source": [
    "# we'll use the pipeline module to combine both transformation and classifiers at a go?\n",
    "\n",
    "from sklearn.pipeline import Pipeline\n",
    "from sklearn.svm import SVC \n",
    "from sklearn.ensemble import RandomForestClassifier  \n",
    "from sklearn.neighbors import KNeighborsClassifier  \n",
    "from sklearn.naive_bayes import GaussianNB  \n",
    "from lightgbm import LGBMClassifier \n",
    "from sklearn.model_selection import cross_val_score\n",
    "from sklearn.model_selection import train_test_split\n",
    "from sklearn import metrics\n",
    "\n",
    "from sklearn.linear_model import LogisticRegression\n",
    "from sklearn.discriminant_analysis import LinearDiscriminantAnalysis\n",
    "from sklearn.discriminant_analysis import QuadraticDiscriminantAnalysis\n",
    "from sklearn.tree import DecisionTreeClassifier\n",
    "from sklearn.ensemble import RandomForestClassifier, AdaBoostClassifier\n",
    "\n",
    "from sklearn.metrics import accuracy_score, f1_score, classification_report"
   ]
  },
  {
   "cell_type": "markdown",
   "metadata": {},
   "source": [
    "**Built model using the Support vector classifier**"
   ]
  },
  {
   "cell_type": "code",
   "execution_count": 66,
   "metadata": {
    "scrolled": true
   },
   "outputs": [
    {
     "data": {
      "text/plain": [
       "Pipeline(steps=[('tfidf_vectorizer', TfidfVectorizer(max_features=4000)),\n",
       "                ('classifier', SVC())])"
      ]
     },
     "execution_count": 66,
     "metadata": {},
     "output_type": "execute_result"
    }
   ],
   "source": [
    "tfidf_vectorizer = TfidfVectorizer(max_features=4000)\n",
    "svm_classifier = SVC(kernel='rbf')\n",
    "\n",
    "svc_steps = [\n",
    "    ('tfidf_vectorizer', tfidf_vectorizer),\n",
    "    ('classifier', svm_classifier)\n",
    "]\n",
    "\n",
    "# Create the pipeline\n",
    "svc_pipe = Pipeline(svc_steps)\n",
    "\n",
    "\n",
    "# Fit the pipeline to the training data\n",
    "svc_pipe.fit(X_train, y_train)"
   ]
  },
  {
   "cell_type": "code",
   "execution_count": 68,
   "metadata": {},
   "outputs": [
    {
     "name": "stdout",
     "output_type": "stream",
     "text": [
      "0.9877123786407767\n",
      "0.9877123786407767\n"
     ]
    }
   ],
   "source": [
    "# Evaluate on the test data\n",
    "accuracy = svc_pipe.score(X_val, y_val)\n",
    "print(accuracy)\n",
    "# Make predictions on the testing data\n",
    "y_pred_svc = svc_pipe.predict(X_val)\n",
    "\n",
    "# Calculate the accuracy score\n",
    "accuracy1 = accuracy_score(y_val, y_pred_svc)\n",
    "print(accuracy1)"
   ]
  },
  {
   "cell_type": "code",
   "execution_count": 69,
   "metadata": {},
   "outputs": [],
   "source": [
    "# created a function to get the class report for the validation data set each model created\n",
    "\n",
    "def get_class_report(clf, X_test, y_test):\n",
    "    #your code here\n",
    "    \n",
    "    # create the predictions\n",
    "    y_pred = clf.predict(X_test)\n",
    "    \n",
    "    # create the report\n",
    "    report = classification_report(y_test, y_pred)\n",
    "    \n",
    "    return report"
   ]
  },
  {
   "cell_type": "code",
   "execution_count": 70,
   "metadata": {},
   "outputs": [
    {
     "name": "stdout",
     "output_type": "stream",
     "text": [
      "\n",
      "\n",
      "Classification Report:\n",
      "\n",
      "               precision    recall  f1-score   support\n",
      "\n",
      "           0       1.00      1.00      1.00       603\n",
      "           1       1.00      1.00      1.00       582\n",
      "           2       0.97      0.96      0.97       590\n",
      "           3       1.00      1.00      1.00       601\n",
      "           4       0.99      0.99      0.99       602\n",
      "           5       0.99      0.98      0.99       597\n",
      "           6       0.99      1.00      0.99       610\n",
      "           7       1.00      1.00      1.00       613\n",
      "           8       1.00      1.00      1.00       602\n",
      "           9       0.97      0.98      0.97       595\n",
      "          10       0.95      0.96      0.96       597\n",
      "\n",
      "    accuracy                           0.99      6592\n",
      "   macro avg       0.99      0.99      0.99      6592\n",
      "weighted avg       0.99      0.99      0.99      6592\n",
      "\n"
     ]
    }
   ],
   "source": [
    "print(\"\\n\\nClassification Report:\\n\\n\", get_class_report(svc_pipe, X_val, y_val))"
   ]
  },
  {
   "cell_type": "code",
   "execution_count": 71,
   "metadata": {},
   "outputs": [],
   "source": [
    "# create a function to take in an encoded prediction and return a decoded label\n",
    "\n",
    "def decode_y(X):\n",
    "    y_decode = label_encoder.inverse_transform(X)\n",
    "    return y_decode"
   ]
  },
  {
   "cell_type": "code",
   "execution_count": 72,
   "metadata": {},
   "outputs": [],
   "source": [
    "# make prediction on the test set and compare the result before using it on unseen data\n",
    "pred_y = svc_pipe.predict(X_val)\n",
    "pred_y_lang = decode_y(pred_y)"
   ]
  },
  {
   "cell_type": "code",
   "execution_count": 73,
   "metadata": {},
   "outputs": [
    {
     "data": {
      "text/plain": [
       "array([ 6,  4,  0, ...,  9,  1, 10])"
      ]
     },
     "execution_count": 73,
     "metadata": {},
     "output_type": "execute_result"
    }
   ],
   "source": [
    "y_val"
   ]
  },
  {
   "cell_type": "code",
   "execution_count": 74,
   "metadata": {},
   "outputs": [
    {
     "data": {
      "text/plain": [
       "array(['tsn', 'sot', 'afr', ..., 'xho', 'eng', 'zul'], dtype=object)"
      ]
     },
     "execution_count": 74,
     "metadata": {},
     "output_type": "execute_result"
    }
   ],
   "source": [
    "pred_y_lang"
   ]
  },
  {
   "cell_type": "code",
   "execution_count": 78,
   "metadata": {},
   "outputs": [],
   "source": [
    "X_val_col = list(X_val)"
   ]
  },
  {
   "cell_type": "code",
   "execution_count": 83,
   "metadata": {},
   "outputs": [
    {
     "data": {
      "text/html": [
       "<div>\n",
       "<style scoped>\n",
       "    .dataframe tbody tr th:only-of-type {\n",
       "        vertical-align: middle;\n",
       "    }\n",
       "\n",
       "    .dataframe tbody tr th {\n",
       "        vertical-align: top;\n",
       "    }\n",
       "\n",
       "    .dataframe thead th {\n",
       "        text-align: right;\n",
       "    }\n",
       "</style>\n",
       "<table border=\"1\" class=\"dataframe\">\n",
       "  <thead>\n",
       "    <tr style=\"text-align: right;\">\n",
       "      <th></th>\n",
       "      <th>X_val</th>\n",
       "      <th>y_val</th>\n",
       "      <th>pred_land</th>\n",
       "    </tr>\n",
       "  </thead>\n",
       "  <tbody>\n",
       "    <tr>\n",
       "      <th>0</th>\n",
       "      <td>['ralekwatiti keresete morwa modimo morena ron...</td>\n",
       "      <td>6</td>\n",
       "      <td>tsn</td>\n",
       "    </tr>\n",
       "    <tr>\n",
       "      <th>1</th>\n",
       "      <td>['ditho tse hlomphehang tla hopola dintlha tse...</td>\n",
       "      <td>4</td>\n",
       "      <td>sot</td>\n",
       "    </tr>\n",
       "    <tr>\n",
       "      <th>2</th>\n",
       "      <td>['toekennings aan suksesvolle regtehouers die ...</td>\n",
       "      <td>0</td>\n",
       "      <td>afr</td>\n",
       "    </tr>\n",
       "    <tr>\n",
       "      <th>3</th>\n",
       "      <td>['akunamphumelelo alukho lwati lwetidzingo tet...</td>\n",
       "      <td>5</td>\n",
       "      <td>ssw</td>\n",
       "    </tr>\n",
       "    <tr>\n",
       "      <th>4</th>\n",
       "      <td>['lawo mazwi abhalwe ngo ngokwanje asizakwazi ...</td>\n",
       "      <td>10</td>\n",
       "      <td>zul</td>\n",
       "    </tr>\n",
       "    <tr>\n",
       "      <th>...</th>\n",
       "      <td>...</td>\n",
       "      <td>...</td>\n",
       "      <td>...</td>\n",
       "    </tr>\n",
       "    <tr>\n",
       "      <th>6587</th>\n",
       "      <td>['latella bala pampiri yohle tadima karolo hla...</td>\n",
       "      <td>4</td>\n",
       "      <td>sot</td>\n",
       "    </tr>\n",
       "    <tr>\n",
       "      <th>6588</th>\n",
       "      <td>['laha xikombelo nyikiwa mfanelo kurisa swimil...</td>\n",
       "      <td>7</td>\n",
       "      <td>tso</td>\n",
       "    </tr>\n",
       "    <tr>\n",
       "      <th>6589</th>\n",
       "      <td>['cela onke amalungu osapho akhe eme kancinci ...</td>\n",
       "      <td>9</td>\n",
       "      <td>xho</td>\n",
       "    </tr>\n",
       "    <tr>\n",
       "      <th>6590</th>\n",
       "      <td>['actions wherein the sum claimed being within...</td>\n",
       "      <td>1</td>\n",
       "      <td>eng</td>\n",
       "    </tr>\n",
       "    <tr>\n",
       "      <th>6591</th>\n",
       "      <td>['iceo kufanele ikhethe umuntu ozoba iphini le...</td>\n",
       "      <td>10</td>\n",
       "      <td>zul</td>\n",
       "    </tr>\n",
       "  </tbody>\n",
       "</table>\n",
       "<p>6592 rows × 3 columns</p>\n",
       "</div>"
      ],
      "text/plain": [
       "                                                  X_val  y_val pred_land\n",
       "0     ['ralekwatiti keresete morwa modimo morena ron...      6       tsn\n",
       "1     ['ditho tse hlomphehang tla hopola dintlha tse...      4       sot\n",
       "2     ['toekennings aan suksesvolle regtehouers die ...      0       afr\n",
       "3     ['akunamphumelelo alukho lwati lwetidzingo tet...      5       ssw\n",
       "4     ['lawo mazwi abhalwe ngo ngokwanje asizakwazi ...     10       zul\n",
       "...                                                 ...    ...       ...\n",
       "6587  ['latella bala pampiri yohle tadima karolo hla...      4       sot\n",
       "6588  ['laha xikombelo nyikiwa mfanelo kurisa swimil...      7       tso\n",
       "6589  ['cela onke amalungu osapho akhe eme kancinci ...      9       xho\n",
       "6590  ['actions wherein the sum claimed being within...      1       eng\n",
       "6591  ['iceo kufanele ikhethe umuntu ozoba iphini le...     10       zul\n",
       "\n",
       "[6592 rows x 3 columns]"
      ]
     },
     "execution_count": 83,
     "metadata": {},
     "output_type": "execute_result"
    }
   ],
   "source": [
    "pd.DataFrame({'X_val': X_val_series, 'y_val' : y_val, 'pred_land' : pred_y_lang})"
   ]
  },
  {
   "cell_type": "code",
   "execution_count": null,
   "metadata": {},
   "outputs": [],
   "source": []
  },
  {
   "cell_type": "code",
   "execution_count": 84,
   "metadata": {},
   "outputs": [
    {
     "data": {
      "text/html": [
       "<div>\n",
       "<style scoped>\n",
       "    .dataframe tbody tr th:only-of-type {\n",
       "        vertical-align: middle;\n",
       "    }\n",
       "\n",
       "    .dataframe tbody tr th {\n",
       "        vertical-align: top;\n",
       "    }\n",
       "\n",
       "    .dataframe thead th {\n",
       "        text-align: right;\n",
       "    }\n",
       "</style>\n",
       "<table border=\"1\" class=\"dataframe\">\n",
       "  <thead>\n",
       "    <tr style=\"text-align: right;\">\n",
       "      <th></th>\n",
       "      <th>index</th>\n",
       "      <th>text</th>\n",
       "      <th>clean_text</th>\n",
       "    </tr>\n",
       "  </thead>\n",
       "  <tbody>\n",
       "    <tr>\n",
       "      <th>0</th>\n",
       "      <td>1</td>\n",
       "      <td>umgaqosiseko wenza amalungiselelo kumaziko axh...</td>\n",
       "      <td>umgaqosiseko wenza amalungiselelo kumaziko axh...</td>\n",
       "    </tr>\n",
       "    <tr>\n",
       "      <th>1</th>\n",
       "      <td>2</td>\n",
       "      <td>idha iya kuba nobulumko bokubeka umsebenzi nap...</td>\n",
       "      <td>idha iya kuba nobulumko bokubeka umsebenzi nap...</td>\n",
       "    </tr>\n",
       "    <tr>\n",
       "      <th>2</th>\n",
       "      <td>3</td>\n",
       "      <td>the province of kwazulunatal department of tra...</td>\n",
       "      <td>the province kwazulunatal department transport...</td>\n",
       "    </tr>\n",
       "    <tr>\n",
       "      <th>3</th>\n",
       "      <td>4</td>\n",
       "      <td>o netefatša gore o ba file dilo ka moka tše le...</td>\n",
       "      <td>netefatša gore file dilo moka tše dumelelanego...</td>\n",
       "    </tr>\n",
       "    <tr>\n",
       "      <th>4</th>\n",
       "      <td>5</td>\n",
       "      <td>khomishini ya ndinganyiso ya mbeu yo ewa maana...</td>\n",
       "      <td>khomishini ndinganyiso mbeu ewa maana nga mula...</td>\n",
       "    </tr>\n",
       "  </tbody>\n",
       "</table>\n",
       "</div>"
      ],
      "text/plain": [
       "   index                                               text  \\\n",
       "0      1  umgaqosiseko wenza amalungiselelo kumaziko axh...   \n",
       "1      2  idha iya kuba nobulumko bokubeka umsebenzi nap...   \n",
       "2      3  the province of kwazulunatal department of tra...   \n",
       "3      4  o netefatša gore o ba file dilo ka moka tše le...   \n",
       "4      5  khomishini ya ndinganyiso ya mbeu yo ewa maana...   \n",
       "\n",
       "                                          clean_text  \n",
       "0  umgaqosiseko wenza amalungiselelo kumaziko axh...  \n",
       "1  idha iya kuba nobulumko bokubeka umsebenzi nap...  \n",
       "2  the province kwazulunatal department transport...  \n",
       "3  netefatša gore file dilo moka tše dumelelanego...  \n",
       "4  khomishini ndinganyiso mbeu ewa maana nga mula...  "
      ]
     },
     "execution_count": 84,
     "metadata": {},
     "output_type": "execute_result"
    }
   ],
   "source": [
    "# Lets make prediction with our test set and submit to kaggle\n",
    "df_test.head()"
   ]
  },
  {
   "cell_type": "code",
   "execution_count": 85,
   "metadata": {},
   "outputs": [
    {
     "data": {
      "text/plain": [
       "array([9, 9, 1, ..., 4, 3, 3])"
      ]
     },
     "execution_count": 85,
     "metadata": {},
     "output_type": "execute_result"
    }
   ],
   "source": [
    "test_code = svc_pipe.predict(df_test.clean_text)\n",
    "test_code"
   ]
  },
  {
   "cell_type": "code",
   "execution_count": 86,
   "metadata": {},
   "outputs": [
    {
     "data": {
      "text/plain": [
       "array(['xho', 'xho', 'eng', ..., 'sot', 'nso', 'nso'], dtype=object)"
      ]
     },
     "execution_count": 86,
     "metadata": {},
     "output_type": "execute_result"
    }
   ],
   "source": [
    "test_decode = decode_y(test_code)\n",
    "test_decode"
   ]
  },
  {
   "cell_type": "code",
   "execution_count": null,
   "metadata": {},
   "outputs": [],
   "source": []
  },
  {
   "cell_type": "code",
   "execution_count": 87,
   "metadata": {},
   "outputs": [
    {
     "data": {
      "text/plain": [
       "(5682, 3)"
      ]
     },
     "execution_count": 87,
     "metadata": {},
     "output_type": "execute_result"
    }
   ],
   "source": [
    "df_test.shape"
   ]
  },
  {
   "cell_type": "code",
   "execution_count": 91,
   "metadata": {},
   "outputs": [
    {
     "data": {
      "text/html": [
       "<div>\n",
       "<style scoped>\n",
       "    .dataframe tbody tr th:only-of-type {\n",
       "        vertical-align: middle;\n",
       "    }\n",
       "\n",
       "    .dataframe tbody tr th {\n",
       "        vertical-align: top;\n",
       "    }\n",
       "\n",
       "    .dataframe thead th {\n",
       "        text-align: right;\n",
       "    }\n",
       "</style>\n",
       "<table border=\"1\" class=\"dataframe\">\n",
       "  <thead>\n",
       "    <tr style=\"text-align: right;\">\n",
       "      <th></th>\n",
       "      <th>index</th>\n",
       "      <th>text</th>\n",
       "      <th>clean_text</th>\n",
       "      <th>lang_id</th>\n",
       "    </tr>\n",
       "  </thead>\n",
       "  <tbody>\n",
       "    <tr>\n",
       "      <th>0</th>\n",
       "      <td>1</td>\n",
       "      <td>umgaqosiseko wenza amalungiselelo kumaziko axh...</td>\n",
       "      <td>umgaqosiseko wenza amalungiselelo kumaziko axh...</td>\n",
       "      <td>xho</td>\n",
       "    </tr>\n",
       "    <tr>\n",
       "      <th>1</th>\n",
       "      <td>2</td>\n",
       "      <td>idha iya kuba nobulumko bokubeka umsebenzi nap...</td>\n",
       "      <td>idha iya kuba nobulumko bokubeka umsebenzi nap...</td>\n",
       "      <td>xho</td>\n",
       "    </tr>\n",
       "    <tr>\n",
       "      <th>2</th>\n",
       "      <td>3</td>\n",
       "      <td>the province of kwazulunatal department of tra...</td>\n",
       "      <td>the province kwazulunatal department transport...</td>\n",
       "      <td>eng</td>\n",
       "    </tr>\n",
       "    <tr>\n",
       "      <th>3</th>\n",
       "      <td>4</td>\n",
       "      <td>o netefatša gore o ba file dilo ka moka tše le...</td>\n",
       "      <td>netefatša gore file dilo moka tše dumelelanego...</td>\n",
       "      <td>nso</td>\n",
       "    </tr>\n",
       "    <tr>\n",
       "      <th>4</th>\n",
       "      <td>5</td>\n",
       "      <td>khomishini ya ndinganyiso ya mbeu yo ewa maana...</td>\n",
       "      <td>khomishini ndinganyiso mbeu ewa maana nga mula...</td>\n",
       "      <td>ven</td>\n",
       "    </tr>\n",
       "    <tr>\n",
       "      <th>...</th>\n",
       "      <td>...</td>\n",
       "      <td>...</td>\n",
       "      <td>...</td>\n",
       "      <td>...</td>\n",
       "    </tr>\n",
       "    <tr>\n",
       "      <th>5677</th>\n",
       "      <td>5678</td>\n",
       "      <td>umthethosisekelo ugunyaza itjhuguluko ebujamen...</td>\n",
       "      <td>umthethosisekelo ugunyaza itjhuguluko ebujamen...</td>\n",
       "      <td>nbl</td>\n",
       "    </tr>\n",
       "    <tr>\n",
       "      <th>5678</th>\n",
       "      <td>5679</td>\n",
       "      <td>dikhampani kapa kgwebo tsa motho ya mong di lo...</td>\n",
       "      <td>dikhampani kapa kgwebo tsa motho mong lokela f...</td>\n",
       "      <td>sot</td>\n",
       "    </tr>\n",
       "    <tr>\n",
       "      <th>5679</th>\n",
       "      <td>5680</td>\n",
       "      <td>dingaka di dumela hore motho ya tsubang dithet...</td>\n",
       "      <td>dingaka dumela hore motho tsubang dithethefats...</td>\n",
       "      <td>sot</td>\n",
       "    </tr>\n",
       "    <tr>\n",
       "      <th>5680</th>\n",
       "      <td>5681</td>\n",
       "      <td>tumelo yeo e fiwago ka ntle ga afrika borwa e ...</td>\n",
       "      <td>tumelo yeo fiwago ntle afrika borwa swanetše s...</td>\n",
       "      <td>nso</td>\n",
       "    </tr>\n",
       "    <tr>\n",
       "      <th>5681</th>\n",
       "      <td>5682</td>\n",
       "      <td>bouto e tee go dihektara tše dingwe le tše din...</td>\n",
       "      <td>bouto tee dihektara tše dingwe tše dingwe tše ...</td>\n",
       "      <td>nso</td>\n",
       "    </tr>\n",
       "  </tbody>\n",
       "</table>\n",
       "<p>5682 rows × 4 columns</p>\n",
       "</div>"
      ],
      "text/plain": [
       "      index                                               text  \\\n",
       "0         1  umgaqosiseko wenza amalungiselelo kumaziko axh...   \n",
       "1         2  idha iya kuba nobulumko bokubeka umsebenzi nap...   \n",
       "2         3  the province of kwazulunatal department of tra...   \n",
       "3         4  o netefatša gore o ba file dilo ka moka tše le...   \n",
       "4         5  khomishini ya ndinganyiso ya mbeu yo ewa maana...   \n",
       "...     ...                                                ...   \n",
       "5677   5678  umthethosisekelo ugunyaza itjhuguluko ebujamen...   \n",
       "5678   5679  dikhampani kapa kgwebo tsa motho ya mong di lo...   \n",
       "5679   5680  dingaka di dumela hore motho ya tsubang dithet...   \n",
       "5680   5681  tumelo yeo e fiwago ka ntle ga afrika borwa e ...   \n",
       "5681   5682  bouto e tee go dihektara tše dingwe le tše din...   \n",
       "\n",
       "                                             clean_text lang_id  \n",
       "0     umgaqosiseko wenza amalungiselelo kumaziko axh...     xho  \n",
       "1     idha iya kuba nobulumko bokubeka umsebenzi nap...     xho  \n",
       "2     the province kwazulunatal department transport...     eng  \n",
       "3     netefatša gore file dilo moka tše dumelelanego...     nso  \n",
       "4     khomishini ndinganyiso mbeu ewa maana nga mula...     ven  \n",
       "...                                                 ...     ...  \n",
       "5677  umthethosisekelo ugunyaza itjhuguluko ebujamen...     nbl  \n",
       "5678  dikhampani kapa kgwebo tsa motho mong lokela f...     sot  \n",
       "5679  dingaka dumela hore motho tsubang dithethefats...     sot  \n",
       "5680  tumelo yeo fiwago ntle afrika borwa swanetše s...     nso  \n",
       "5681  bouto tee dihektara tše dingwe tše dingwe tše ...     nso  \n",
       "\n",
       "[5682 rows x 4 columns]"
      ]
     },
     "execution_count": 91,
     "metadata": {},
     "output_type": "execute_result"
    }
   ],
   "source": [
    "df_test['lang_id'] = test_decode\n",
    "df_test"
   ]
  },
  {
   "cell_type": "code",
   "execution_count": 92,
   "metadata": {},
   "outputs": [],
   "source": [
    "df_test[['index', 'lang_id']].to_csv('sub.csv', index = False, mode = 'w')"
   ]
  },
  {
   "cell_type": "code",
   "execution_count": null,
   "metadata": {},
   "outputs": [],
   "source": []
  },
  {
   "cell_type": "markdown",
   "metadata": {},
   "source": [
    "### LightGBM classifier model"
   ]
  },
  {
   "cell_type": "code",
   "execution_count": 93,
   "metadata": {},
   "outputs": [],
   "source": [
    "# initialize the model object?\n",
    "\n",
    "lgb = LGBMClassifier()\n",
    "\n",
    "lgb_steps = [\n",
    "    ('tfidf_vectorizer', tfidf_vectorizer),\n",
    "    ('classifier', lgb)\n",
    "]\n",
    "\n",
    "# Create the pipeline\n",
    "lgbclf_pipe = Pipeline(lgb_steps)"
   ]
  },
  {
   "cell_type": "code",
   "execution_count": 94,
   "metadata": {},
   "outputs": [
    {
     "data": {
      "text/plain": [
       "Pipeline(steps=[('tfidf_vectorizer', TfidfVectorizer(max_features=4000)),\n",
       "                ('classifier', LGBMClassifier())])"
      ]
     },
     "execution_count": 94,
     "metadata": {},
     "output_type": "execute_result"
    }
   ],
   "source": [
    "# train the model by fitting the training data to the classifier\n",
    "\n",
    "lgbclf_pipe.fit(X_train, y_train)"
   ]
  },
  {
   "cell_type": "code",
   "execution_count": 99,
   "metadata": {},
   "outputs": [
    {
     "data": {
      "text/plain": [
       "0.9998103474434835"
      ]
     },
     "execution_count": 99,
     "metadata": {},
     "output_type": "execute_result"
    }
   ],
   "source": [
    "lgbclf_pipe.score(X_train, y_train)"
   ]
  },
  {
   "cell_type": "code",
   "execution_count": 103,
   "metadata": {},
   "outputs": [
    {
     "name": "stdout",
     "output_type": "stream",
     "text": [
      "['xho' 'xho' 'eng' ... 'sot' 'nso' 'nso']\n"
     ]
    }
   ],
   "source": [
    "from sklearn.metrics import log_loss\n",
    "\n",
    "test_lgb = decode_y(test_code)\n",
    "print(test_lgb)"
   ]
  },
  {
   "cell_type": "code",
   "execution_count": 98,
   "metadata": {},
   "outputs": [
    {
     "name": "stdout",
     "output_type": "stream",
     "text": [
      "[ 6  4  0 ...  9  1 10]\n",
      "\n",
      "\n",
      "Classification Report:\n",
      "\n",
      "               precision    recall  f1-score   support\n",
      "\n",
      "           0       1.00      0.99      1.00       603\n",
      "           1       0.99      0.99      0.99       582\n",
      "           2       0.97      0.95      0.96       590\n",
      "           3       1.00      0.98      0.99       601\n",
      "           4       1.00      0.99      0.99       602\n",
      "           5       0.97      0.96      0.96       597\n",
      "           6       0.97      0.99      0.98       610\n",
      "           7       1.00      0.99      1.00       613\n",
      "           8       1.00      1.00      1.00       602\n",
      "           9       0.92      0.96      0.94       595\n",
      "          10       0.94      0.94      0.94       597\n",
      "\n",
      "    accuracy                           0.98      6592\n",
      "   macro avg       0.98      0.98      0.98      6592\n",
      "weighted avg       0.98      0.98      0.98      6592\n",
      "\n"
     ]
    }
   ],
   "source": [
    "y_lgb_predict = lgbclf_pipe.predict(X_val)\n",
    "print(y_lgb_predict)\n",
    "print(\"\\n\\nClassification Report:\\n\\n\", get_class_report(lgbclf_pipe, X_val, y_val))"
   ]
  },
  {
   "cell_type": "markdown",
   "metadata": {},
   "source": [
    "**Lets perform a grid search to find the best parameters**"
   ]
  },
  {
   "cell_type": "code",
   "execution_count": 105,
   "metadata": {},
   "outputs": [],
   "source": [
    "# import the model selection gridsearchcv modeule from the sklearn package\n",
    "from sklearn.model_selection import GridSearchCV"
   ]
  },
  {
   "cell_type": "code",
   "execution_count": null,
   "metadata": {},
   "outputs": [],
   "source": [
    "# Define the parameter grid\n",
    "param_grid = {\n",
    "    'tfidf_vectorizer__max_features': [2000, 4000, 6000],  # Vary the max_features parameter of TfidfVectorizer\n",
    "    'classifier__n_estimators': [100, 200, 300],  # Vary the number of estimators in LGBMClassifier\n",
    "    'classifier__max_depth': [None, 5, 10]  # Vary the maximum depth of the trees in LGBMClassifier\n",
    "}\n",
    "\n",
    "# Create the pipeline\n",
    "lgb_steps = [\n",
    "    ('tfidf_vectorizer', tfidf_vectorizer),\n",
    "    ('classifier', LGBMClassifier())\n",
    "]\n",
    "lgbclf_pipe = Pipeline(lgb_steps)\n",
    "\n",
    "# Perform grid search\n",
    "grid_search = GridSearchCV(lgbclf_pipe, param_grid, cv=5, scoring='accuracy')\n",
    "grid_search.fit(X_train, y_train)\n",
    "\n",
    "# Print the best parameters and best score\n",
    "print(\"Best Parameters:\", grid_search.best_params_)\n",
    "print(\"Best Score:\", grid_search.best_score_)\n",
    "\n",
    "# Get the best model\n",
    "best_model = grid_search.best_estimator_\n",
    "\n",
    "# Evaluate the best model on the testing data\n",
    "y_pred = best_model.predict(X_val)\n",
    "print(\"\\n\\nClassification Report:\\n\\n\", classification_report(y_val, y_pred))"
   ]
  },
  {
   "cell_type": "code",
   "execution_count": null,
   "metadata": {},
   "outputs": [],
   "source": []
  },
  {
   "cell_type": "code",
   "execution_count": null,
   "metadata": {},
   "outputs": [],
   "source": []
  },
  {
   "cell_type": "code",
   "execution_count": null,
   "metadata": {},
   "outputs": [],
   "source": []
  },
  {
   "cell_type": "code",
   "execution_count": null,
   "metadata": {},
   "outputs": [],
   "source": []
  },
  {
   "cell_type": "code",
   "execution_count": null,
   "metadata": {},
   "outputs": [],
   "source": []
  }
 ],
 "metadata": {
  "kernelspec": {
   "display_name": "Python 3 (ipykernel)",
   "language": "python",
   "name": "python3"
  },
  "language_info": {
   "codemirror_mode": {
    "name": "ipython",
    "version": 3
   },
   "file_extension": ".py",
   "mimetype": "text/x-python",
   "name": "python",
   "nbconvert_exporter": "python",
   "pygments_lexer": "ipython3",
   "version": "3.9.13"
  }
 },
 "nbformat": 4,
 "nbformat_minor": 4
}
